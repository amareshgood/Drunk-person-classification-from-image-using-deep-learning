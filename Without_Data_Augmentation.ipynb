{
  "nbformat": 4,
  "nbformat_minor": 0,
  "metadata": {
    "colab": {
      "name": "without_data_augmentation.ipynb",
      "provenance": [],
      "collapsed_sections": []
    },
    "kernelspec": {
      "display_name": "Python 3",
      "name": "python3"
    },
    "language_info": {
      "name": "python"
    }
  },
  "cells": [
    {
      "cell_type": "code",
      "metadata": {
        "colab": {
          "base_uri": "https://localhost:8080/"
        },
        "id": "G4kAY73CZIdf",
        "outputId": "787e1406-a3db-445e-ba33-03d056854a1a"
      },
      "source": [
        "#Google Drive\n",
        "\n",
        "# Load the Drive helper and mount\n",
        "from google.colab import drive\n",
        "\n",
        "# This will prompt for authorization.  \n",
        "drive.mount('/content/drive')"
      ],
      "execution_count": 1,
      "outputs": [
        {
          "output_type": "stream",
          "name": "stdout",
          "text": [
            "Go to this URL in a browser: https://accounts.google.com/o/oauth2/auth?client_id=947318989803-6bn6qk8qdgf4n4g3pfee6491hc0brc4i.apps.googleusercontent.com&redirect_uri=urn%3aietf%3awg%3aoauth%3a2.0%3aoob&scope=email%20https%3a%2f%2fwww.googleapis.com%2fauth%2fdocs.test%20https%3a%2f%2fwww.googleapis.com%2fauth%2fdrive%20https%3a%2f%2fwww.googleapis.com%2fauth%2fdrive.photos.readonly%20https%3a%2f%2fwww.googleapis.com%2fauth%2fpeopleapi.readonly%20https%3a%2f%2fwww.googleapis.com%2fauth%2fdrive.activity.readonly%20https%3a%2f%2fwww.googleapis.com%2fauth%2fexperimentsandconfigs%20https%3a%2f%2fwww.googleapis.com%2fauth%2fphotos.native&response_type=code\n",
            "\n",
            "Enter your authorization code:\n",
            "4/1AX4XfWhrC7fjgm5TNsEzo6F--IGIzeBB2QpUNexfsP8f_S1_lbnKlQFEZM8\n",
            "Mounted at /content/drive\n"
          ]
        }
      ]
    },
    {
      "cell_type": "code",
      "metadata": {
        "id": "5RGBUk0JQ_oH"
      },
      "source": [
        "import os, cv2, random\n",
        "import numpy as np\n",
        "from matplotlib import pyplot as plt\n",
        "from matplotlib.pyplot import imshow\n",
        "from keras.preprocessing import image\n",
        "\n"
      ],
      "execution_count": 2,
      "outputs": []
    },
    {
      "cell_type": "markdown",
      "metadata": {
        "id": "qf_u85OrhYmX"
      },
      "source": [
        "Directory changed to specific folder which contains the dataset"
      ]
    },
    {
      "cell_type": "code",
      "metadata": {
        "colab": {
          "base_uri": "https://localhost:8080/"
        },
        "id": "aKPXejwTqD3n",
        "outputId": "58b5866a-763c-44de-a863-4404833f5a7d"
      },
      "source": [
        "os.chdir('/content/drive/MyDrive/Drunk Sober Classify/DeepLearning_Assignment_Drunk_Sober_Classify/')\n",
        "!ls"
      ],
      "execution_count": 3,
      "outputs": [
        {
          "output_type": "stream",
          "name": "stdout",
          "text": [
            " 01_petros    13_manos\t        25_nausika    37_vassilisA\n",
            " 02_giorgos   14_lampros        26_tsag       38_christos\n",
            " 03_vasil     15_konstantinos   27_theox      39_anna\n",
            " 04_elpis     16_nikos\t        28_frag       40_spiliop\n",
            " 05_artemis   17_kwstas         29_lia\t      41_kalp\n",
            " 06_tris      18_dionisis       30_patty     'Problem Statement.docx'\n",
            " 07_thanos    19_pasxalis       31_antonis    readme.docx\n",
            " 08_tzon      20_nefeli         32_vicky      sample_data_read.ipynb\n",
            " 09_giorg     21_ilias\t        33_iliasv     VIMAL.doc\n",
            " 10_konst     22_dimitris       34_alkis\n",
            " 11_takis     23_vassiliskar    35_thanasis\n",
            " 12_loukas    24_rig\t        36_krod\n"
          ]
        }
      ]
    },
    {
      "cell_type": "code",
      "metadata": {
        "colab": {
          "base_uri": "https://localhost:8080/"
        },
        "id": "VZK1OhTdZuxm",
        "outputId": "bb6625a6-500e-4eb4-efeb-fb04ac7b5cfd"
      },
      "source": [
        "folders = [f for f in os.listdir(os.getcwd()) if os.path.isdir(f)]\n",
        "print('no. of folders:', len(folders))"
      ],
      "execution_count": 34,
      "outputs": [
        {
          "output_type": "stream",
          "name": "stdout",
          "text": [
            "no. of folders: 41\n"
          ]
        }
      ]
    },
    {
      "cell_type": "markdown",
      "metadata": {
        "id": "Eiutw6hQhejw"
      },
      "source": [
        "**VGG16 models are loaded for feature extraction**"
      ]
    },
    {
      "cell_type": "code",
      "metadata": {
        "colab": {
          "base_uri": "https://localhost:8080/"
        },
        "id": "hLBbly6WQ0zi",
        "outputId": "7318e705-917d-4f8d-939c-d83654c70ef1"
      },
      "source": [
        "from keras.applications.vgg16 import VGG16\n",
        "from keras.models import Model, Sequential, load_model\n",
        "from keras.layers import Dense, Conv2D, AveragePooling2D, MaxPooling2D, Flatten, Reshape, Dropout\n",
        "from keras.applications.vgg16 import preprocess_input\n",
        "vgg_model = VGG16(weights='imagenet', include_top=True)\n",
        "for layer in vgg_model.layers[:]:\n",
        "  layer.trainable = False\n",
        "#add fully connected layer which have 1024 neuron to vgg16 model\n",
        "output = vgg_model.get_layer('fc2').output\n",
        "output = Flatten (name='new_flatten')(output)\n",
        "output = Dense(units = 1024, activation='relu',name='new_fc')(output)\n",
        "#output = Dense(units=2, activation ='softmax')(output)\n",
        "vgg_model =Model(vgg_model.input, output)\n",
        "\n",
        "#make last 4 layers trainable if lastFourTrainabel ==True\n",
        "#if lastFourTrainabel ==True\n",
        "vgg_model.get_layer('block5_conv3').trainable = True\n",
        "vgg_model.get_layer('fc1').trainable = True\n",
        "vgg_model.get_layer('fc2').trainable = True\n",
        "vgg_model.get_layer('new_fc').trainable = True\n",
        "\n",
        "vgg_model.compile(optimizer = 'adam', loss='binary_crossentropy',metrics=['accuracy'])\n",
        "vgg_model.summary()\n"
      ],
      "execution_count": 35,
      "outputs": [
        {
          "output_type": "stream",
          "name": "stdout",
          "text": [
            "Model: \"model_1\"\n",
            "_________________________________________________________________\n",
            "Layer (type)                 Output Shape              Param #   \n",
            "=================================================================\n",
            "input_3 (InputLayer)         [(None, 224, 224, 3)]     0         \n",
            "_________________________________________________________________\n",
            "block1_conv1 (Conv2D)        (None, 224, 224, 64)      1792      \n",
            "_________________________________________________________________\n",
            "block1_conv2 (Conv2D)        (None, 224, 224, 64)      36928     \n",
            "_________________________________________________________________\n",
            "block1_pool (MaxPooling2D)   (None, 112, 112, 64)      0         \n",
            "_________________________________________________________________\n",
            "block2_conv1 (Conv2D)        (None, 112, 112, 128)     73856     \n",
            "_________________________________________________________________\n",
            "block2_conv2 (Conv2D)        (None, 112, 112, 128)     147584    \n",
            "_________________________________________________________________\n",
            "block2_pool (MaxPooling2D)   (None, 56, 56, 128)       0         \n",
            "_________________________________________________________________\n",
            "block3_conv1 (Conv2D)        (None, 56, 56, 256)       295168    \n",
            "_________________________________________________________________\n",
            "block3_conv2 (Conv2D)        (None, 56, 56, 256)       590080    \n",
            "_________________________________________________________________\n",
            "block3_conv3 (Conv2D)        (None, 56, 56, 256)       590080    \n",
            "_________________________________________________________________\n",
            "block3_pool (MaxPooling2D)   (None, 28, 28, 256)       0         \n",
            "_________________________________________________________________\n",
            "block4_conv1 (Conv2D)        (None, 28, 28, 512)       1180160   \n",
            "_________________________________________________________________\n",
            "block4_conv2 (Conv2D)        (None, 28, 28, 512)       2359808   \n",
            "_________________________________________________________________\n",
            "block4_conv3 (Conv2D)        (None, 28, 28, 512)       2359808   \n",
            "_________________________________________________________________\n",
            "block4_pool (MaxPooling2D)   (None, 14, 14, 512)       0         \n",
            "_________________________________________________________________\n",
            "block5_conv1 (Conv2D)        (None, 14, 14, 512)       2359808   \n",
            "_________________________________________________________________\n",
            "block5_conv2 (Conv2D)        (None, 14, 14, 512)       2359808   \n",
            "_________________________________________________________________\n",
            "block5_conv3 (Conv2D)        (None, 14, 14, 512)       2359808   \n",
            "_________________________________________________________________\n",
            "block5_pool (MaxPooling2D)   (None, 7, 7, 512)         0         \n",
            "_________________________________________________________________\n",
            "flatten (Flatten)            (None, 25088)             0         \n",
            "_________________________________________________________________\n",
            "fc1 (Dense)                  (None, 4096)              102764544 \n",
            "_________________________________________________________________\n",
            "fc2 (Dense)                  (None, 4096)              16781312  \n",
            "_________________________________________________________________\n",
            "new_flatten (Flatten)        (None, 4096)              0         \n",
            "_________________________________________________________________\n",
            "new_fc (Dense)               (None, 1024)              4195328   \n",
            "=================================================================\n",
            "Total params: 138,455,872\n",
            "Trainable params: 126,100,992\n",
            "Non-trainable params: 12,354,880\n",
            "_________________________________________________________________\n"
          ]
        }
      ]
    },
    {
      "cell_type": "markdown",
      "metadata": {
        "id": "wQud7hVDhk-V"
      },
      "source": [
        "**ResNet50 model is loaded for feature extraction**"
      ]
    },
    {
      "cell_type": "code",
      "metadata": {
        "id": "FgQFcppvY0wh"
      },
      "source": [
        ""
      ],
      "execution_count": null,
      "outputs": []
    },
    {
      "cell_type": "code",
      "metadata": {
        "colab": {
          "base_uri": "https://localhost:8080/"
        },
        "id": "VfQ4Y7b6QwP0",
        "outputId": "d42d6e6d-61d3-469f-a4b8-5e789c510319"
      },
      "source": [
        "from tensorflow.keras.applications import ResNet50\n",
        "from tensorflow.keras.applications.resnet50 import preprocess_input\n",
        "from keras.layers import Dense, Conv2D, GlobalAveragePooling2D, MaxPooling2D, Flatten, Reshape, Dropout\n",
        "resnet_model = ResNet50(weights=\"imagenet\", include_top=True)\n",
        "#le = None\n",
        "for layer in resnet_model.layers[:]:\n",
        "  layer.trainable = False\n",
        "#add fully connected layer which have 1024 neuron to resnet model\n",
        "output = resnet_model.get_layer('avg_pool').output\n",
        "#output = GlobalAveragePooling2D()(output)\n",
        "output = Flatten (name='new_flatten')(output)\n",
        "output = Dense(units = 1024, activation='relu',name='new_fc')(output)\n",
        "#output = Dense(units=2, activation ='softmax')(output)\n",
        "resnet_model =Model(resnet_model.input, output)\n",
        "\n",
        "#make last 4 layers trainable if lastFourTrainabel ==True\n",
        "#if lastFourTrainabel ==True\n",
        "resnet_model.get_layer('conv5_block3_2_bn').trainable = True\n",
        "resnet_model.get_layer('conv5_block3_3_conv').trainable = True\n",
        "resnet_model.get_layer('conv5_block3_3_bn').trainable = True\n",
        "resnet_model.get_layer('new_fc').trainable = True\n",
        "\n",
        "resnet_model.compile(optimizer = 'adam', loss='binary_crossentropy',metrics=['accuracy'])\n",
        "resnet_model.summary()\n",
        "\n",
        "#features = model.predict(batchImages, batch_size=config.BATCH_SIZE)\n",
        "#features = features.reshape((features.shape[0], 7 * 7 * 2048))"
      ],
      "execution_count": 51,
      "outputs": [
        {
          "output_type": "stream",
          "name": "stdout",
          "text": [
            "Model: \"model_7\"\n",
            "__________________________________________________________________________________________________\n",
            "Layer (type)                    Output Shape         Param #     Connected to                     \n",
            "==================================================================================================\n",
            "input_16 (InputLayer)           [(None, 224, 224, 3) 0                                            \n",
            "__________________________________________________________________________________________________\n",
            "conv1_pad (ZeroPadding2D)       (None, 230, 230, 3)  0           input_16[0][0]                   \n",
            "__________________________________________________________________________________________________\n",
            "conv1_conv (Conv2D)             (None, 112, 112, 64) 9472        conv1_pad[0][0]                  \n",
            "__________________________________________________________________________________________________\n",
            "conv1_bn (BatchNormalization)   (None, 112, 112, 64) 256         conv1_conv[0][0]                 \n",
            "__________________________________________________________________________________________________\n",
            "conv1_relu (Activation)         (None, 112, 112, 64) 0           conv1_bn[0][0]                   \n",
            "__________________________________________________________________________________________________\n",
            "pool1_pad (ZeroPadding2D)       (None, 114, 114, 64) 0           conv1_relu[0][0]                 \n",
            "__________________________________________________________________________________________________\n",
            "pool1_pool (MaxPooling2D)       (None, 56, 56, 64)   0           pool1_pad[0][0]                  \n",
            "__________________________________________________________________________________________________\n",
            "conv2_block1_1_conv (Conv2D)    (None, 56, 56, 64)   4160        pool1_pool[0][0]                 \n",
            "__________________________________________________________________________________________________\n",
            "conv2_block1_1_bn (BatchNormali (None, 56, 56, 64)   256         conv2_block1_1_conv[0][0]        \n",
            "__________________________________________________________________________________________________\n",
            "conv2_block1_1_relu (Activation (None, 56, 56, 64)   0           conv2_block1_1_bn[0][0]          \n",
            "__________________________________________________________________________________________________\n",
            "conv2_block1_2_conv (Conv2D)    (None, 56, 56, 64)   36928       conv2_block1_1_relu[0][0]        \n",
            "__________________________________________________________________________________________________\n",
            "conv2_block1_2_bn (BatchNormali (None, 56, 56, 64)   256         conv2_block1_2_conv[0][0]        \n",
            "__________________________________________________________________________________________________\n",
            "conv2_block1_2_relu (Activation (None, 56, 56, 64)   0           conv2_block1_2_bn[0][0]          \n",
            "__________________________________________________________________________________________________\n",
            "conv2_block1_0_conv (Conv2D)    (None, 56, 56, 256)  16640       pool1_pool[0][0]                 \n",
            "__________________________________________________________________________________________________\n",
            "conv2_block1_3_conv (Conv2D)    (None, 56, 56, 256)  16640       conv2_block1_2_relu[0][0]        \n",
            "__________________________________________________________________________________________________\n",
            "conv2_block1_0_bn (BatchNormali (None, 56, 56, 256)  1024        conv2_block1_0_conv[0][0]        \n",
            "__________________________________________________________________________________________________\n",
            "conv2_block1_3_bn (BatchNormali (None, 56, 56, 256)  1024        conv2_block1_3_conv[0][0]        \n",
            "__________________________________________________________________________________________________\n",
            "conv2_block1_add (Add)          (None, 56, 56, 256)  0           conv2_block1_0_bn[0][0]          \n",
            "                                                                 conv2_block1_3_bn[0][0]          \n",
            "__________________________________________________________________________________________________\n",
            "conv2_block1_out (Activation)   (None, 56, 56, 256)  0           conv2_block1_add[0][0]           \n",
            "__________________________________________________________________________________________________\n",
            "conv2_block2_1_conv (Conv2D)    (None, 56, 56, 64)   16448       conv2_block1_out[0][0]           \n",
            "__________________________________________________________________________________________________\n",
            "conv2_block2_1_bn (BatchNormali (None, 56, 56, 64)   256         conv2_block2_1_conv[0][0]        \n",
            "__________________________________________________________________________________________________\n",
            "conv2_block2_1_relu (Activation (None, 56, 56, 64)   0           conv2_block2_1_bn[0][0]          \n",
            "__________________________________________________________________________________________________\n",
            "conv2_block2_2_conv (Conv2D)    (None, 56, 56, 64)   36928       conv2_block2_1_relu[0][0]        \n",
            "__________________________________________________________________________________________________\n",
            "conv2_block2_2_bn (BatchNormali (None, 56, 56, 64)   256         conv2_block2_2_conv[0][0]        \n",
            "__________________________________________________________________________________________________\n",
            "conv2_block2_2_relu (Activation (None, 56, 56, 64)   0           conv2_block2_2_bn[0][0]          \n",
            "__________________________________________________________________________________________________\n",
            "conv2_block2_3_conv (Conv2D)    (None, 56, 56, 256)  16640       conv2_block2_2_relu[0][0]        \n",
            "__________________________________________________________________________________________________\n",
            "conv2_block2_3_bn (BatchNormali (None, 56, 56, 256)  1024        conv2_block2_3_conv[0][0]        \n",
            "__________________________________________________________________________________________________\n",
            "conv2_block2_add (Add)          (None, 56, 56, 256)  0           conv2_block1_out[0][0]           \n",
            "                                                                 conv2_block2_3_bn[0][0]          \n",
            "__________________________________________________________________________________________________\n",
            "conv2_block2_out (Activation)   (None, 56, 56, 256)  0           conv2_block2_add[0][0]           \n",
            "__________________________________________________________________________________________________\n",
            "conv2_block3_1_conv (Conv2D)    (None, 56, 56, 64)   16448       conv2_block2_out[0][0]           \n",
            "__________________________________________________________________________________________________\n",
            "conv2_block3_1_bn (BatchNormali (None, 56, 56, 64)   256         conv2_block3_1_conv[0][0]        \n",
            "__________________________________________________________________________________________________\n",
            "conv2_block3_1_relu (Activation (None, 56, 56, 64)   0           conv2_block3_1_bn[0][0]          \n",
            "__________________________________________________________________________________________________\n",
            "conv2_block3_2_conv (Conv2D)    (None, 56, 56, 64)   36928       conv2_block3_1_relu[0][0]        \n",
            "__________________________________________________________________________________________________\n",
            "conv2_block3_2_bn (BatchNormali (None, 56, 56, 64)   256         conv2_block3_2_conv[0][0]        \n",
            "__________________________________________________________________________________________________\n",
            "conv2_block3_2_relu (Activation (None, 56, 56, 64)   0           conv2_block3_2_bn[0][0]          \n",
            "__________________________________________________________________________________________________\n",
            "conv2_block3_3_conv (Conv2D)    (None, 56, 56, 256)  16640       conv2_block3_2_relu[0][0]        \n",
            "__________________________________________________________________________________________________\n",
            "conv2_block3_3_bn (BatchNormali (None, 56, 56, 256)  1024        conv2_block3_3_conv[0][0]        \n",
            "__________________________________________________________________________________________________\n",
            "conv2_block3_add (Add)          (None, 56, 56, 256)  0           conv2_block2_out[0][0]           \n",
            "                                                                 conv2_block3_3_bn[0][0]          \n",
            "__________________________________________________________________________________________________\n",
            "conv2_block3_out (Activation)   (None, 56, 56, 256)  0           conv2_block3_add[0][0]           \n",
            "__________________________________________________________________________________________________\n",
            "conv3_block1_1_conv (Conv2D)    (None, 28, 28, 128)  32896       conv2_block3_out[0][0]           \n",
            "__________________________________________________________________________________________________\n",
            "conv3_block1_1_bn (BatchNormali (None, 28, 28, 128)  512         conv3_block1_1_conv[0][0]        \n",
            "__________________________________________________________________________________________________\n",
            "conv3_block1_1_relu (Activation (None, 28, 28, 128)  0           conv3_block1_1_bn[0][0]          \n",
            "__________________________________________________________________________________________________\n",
            "conv3_block1_2_conv (Conv2D)    (None, 28, 28, 128)  147584      conv3_block1_1_relu[0][0]        \n",
            "__________________________________________________________________________________________________\n",
            "conv3_block1_2_bn (BatchNormali (None, 28, 28, 128)  512         conv3_block1_2_conv[0][0]        \n",
            "__________________________________________________________________________________________________\n",
            "conv3_block1_2_relu (Activation (None, 28, 28, 128)  0           conv3_block1_2_bn[0][0]          \n",
            "__________________________________________________________________________________________________\n",
            "conv3_block1_0_conv (Conv2D)    (None, 28, 28, 512)  131584      conv2_block3_out[0][0]           \n",
            "__________________________________________________________________________________________________\n",
            "conv3_block1_3_conv (Conv2D)    (None, 28, 28, 512)  66048       conv3_block1_2_relu[0][0]        \n",
            "__________________________________________________________________________________________________\n",
            "conv3_block1_0_bn (BatchNormali (None, 28, 28, 512)  2048        conv3_block1_0_conv[0][0]        \n",
            "__________________________________________________________________________________________________\n",
            "conv3_block1_3_bn (BatchNormali (None, 28, 28, 512)  2048        conv3_block1_3_conv[0][0]        \n",
            "__________________________________________________________________________________________________\n",
            "conv3_block1_add (Add)          (None, 28, 28, 512)  0           conv3_block1_0_bn[0][0]          \n",
            "                                                                 conv3_block1_3_bn[0][0]          \n",
            "__________________________________________________________________________________________________\n",
            "conv3_block1_out (Activation)   (None, 28, 28, 512)  0           conv3_block1_add[0][0]           \n",
            "__________________________________________________________________________________________________\n",
            "conv3_block2_1_conv (Conv2D)    (None, 28, 28, 128)  65664       conv3_block1_out[0][0]           \n",
            "__________________________________________________________________________________________________\n",
            "conv3_block2_1_bn (BatchNormali (None, 28, 28, 128)  512         conv3_block2_1_conv[0][0]        \n",
            "__________________________________________________________________________________________________\n",
            "conv3_block2_1_relu (Activation (None, 28, 28, 128)  0           conv3_block2_1_bn[0][0]          \n",
            "__________________________________________________________________________________________________\n",
            "conv3_block2_2_conv (Conv2D)    (None, 28, 28, 128)  147584      conv3_block2_1_relu[0][0]        \n",
            "__________________________________________________________________________________________________\n",
            "conv3_block2_2_bn (BatchNormali (None, 28, 28, 128)  512         conv3_block2_2_conv[0][0]        \n",
            "__________________________________________________________________________________________________\n",
            "conv3_block2_2_relu (Activation (None, 28, 28, 128)  0           conv3_block2_2_bn[0][0]          \n",
            "__________________________________________________________________________________________________\n",
            "conv3_block2_3_conv (Conv2D)    (None, 28, 28, 512)  66048       conv3_block2_2_relu[0][0]        \n",
            "__________________________________________________________________________________________________\n",
            "conv3_block2_3_bn (BatchNormali (None, 28, 28, 512)  2048        conv3_block2_3_conv[0][0]        \n",
            "__________________________________________________________________________________________________\n",
            "conv3_block2_add (Add)          (None, 28, 28, 512)  0           conv3_block1_out[0][0]           \n",
            "                                                                 conv3_block2_3_bn[0][0]          \n",
            "__________________________________________________________________________________________________\n",
            "conv3_block2_out (Activation)   (None, 28, 28, 512)  0           conv3_block2_add[0][0]           \n",
            "__________________________________________________________________________________________________\n",
            "conv3_block3_1_conv (Conv2D)    (None, 28, 28, 128)  65664       conv3_block2_out[0][0]           \n",
            "__________________________________________________________________________________________________\n",
            "conv3_block3_1_bn (BatchNormali (None, 28, 28, 128)  512         conv3_block3_1_conv[0][0]        \n",
            "__________________________________________________________________________________________________\n",
            "conv3_block3_1_relu (Activation (None, 28, 28, 128)  0           conv3_block3_1_bn[0][0]          \n",
            "__________________________________________________________________________________________________\n",
            "conv3_block3_2_conv (Conv2D)    (None, 28, 28, 128)  147584      conv3_block3_1_relu[0][0]        \n",
            "__________________________________________________________________________________________________\n",
            "conv3_block3_2_bn (BatchNormali (None, 28, 28, 128)  512         conv3_block3_2_conv[0][0]        \n",
            "__________________________________________________________________________________________________\n",
            "conv3_block3_2_relu (Activation (None, 28, 28, 128)  0           conv3_block3_2_bn[0][0]          \n",
            "__________________________________________________________________________________________________\n",
            "conv3_block3_3_conv (Conv2D)    (None, 28, 28, 512)  66048       conv3_block3_2_relu[0][0]        \n",
            "__________________________________________________________________________________________________\n",
            "conv3_block3_3_bn (BatchNormali (None, 28, 28, 512)  2048        conv3_block3_3_conv[0][0]        \n",
            "__________________________________________________________________________________________________\n",
            "conv3_block3_add (Add)          (None, 28, 28, 512)  0           conv3_block2_out[0][0]           \n",
            "                                                                 conv3_block3_3_bn[0][0]          \n",
            "__________________________________________________________________________________________________\n",
            "conv3_block3_out (Activation)   (None, 28, 28, 512)  0           conv3_block3_add[0][0]           \n",
            "__________________________________________________________________________________________________\n",
            "conv3_block4_1_conv (Conv2D)    (None, 28, 28, 128)  65664       conv3_block3_out[0][0]           \n",
            "__________________________________________________________________________________________________\n",
            "conv3_block4_1_bn (BatchNormali (None, 28, 28, 128)  512         conv3_block4_1_conv[0][0]        \n",
            "__________________________________________________________________________________________________\n",
            "conv3_block4_1_relu (Activation (None, 28, 28, 128)  0           conv3_block4_1_bn[0][0]          \n",
            "__________________________________________________________________________________________________\n",
            "conv3_block4_2_conv (Conv2D)    (None, 28, 28, 128)  147584      conv3_block4_1_relu[0][0]        \n",
            "__________________________________________________________________________________________________\n",
            "conv3_block4_2_bn (BatchNormali (None, 28, 28, 128)  512         conv3_block4_2_conv[0][0]        \n",
            "__________________________________________________________________________________________________\n",
            "conv3_block4_2_relu (Activation (None, 28, 28, 128)  0           conv3_block4_2_bn[0][0]          \n",
            "__________________________________________________________________________________________________\n",
            "conv3_block4_3_conv (Conv2D)    (None, 28, 28, 512)  66048       conv3_block4_2_relu[0][0]        \n",
            "__________________________________________________________________________________________________\n",
            "conv3_block4_3_bn (BatchNormali (None, 28, 28, 512)  2048        conv3_block4_3_conv[0][0]        \n",
            "__________________________________________________________________________________________________\n",
            "conv3_block4_add (Add)          (None, 28, 28, 512)  0           conv3_block3_out[0][0]           \n",
            "                                                                 conv3_block4_3_bn[0][0]          \n",
            "__________________________________________________________________________________________________\n",
            "conv3_block4_out (Activation)   (None, 28, 28, 512)  0           conv3_block4_add[0][0]           \n",
            "__________________________________________________________________________________________________\n",
            "conv4_block1_1_conv (Conv2D)    (None, 14, 14, 256)  131328      conv3_block4_out[0][0]           \n",
            "__________________________________________________________________________________________________\n",
            "conv4_block1_1_bn (BatchNormali (None, 14, 14, 256)  1024        conv4_block1_1_conv[0][0]        \n",
            "__________________________________________________________________________________________________\n",
            "conv4_block1_1_relu (Activation (None, 14, 14, 256)  0           conv4_block1_1_bn[0][0]          \n",
            "__________________________________________________________________________________________________\n",
            "conv4_block1_2_conv (Conv2D)    (None, 14, 14, 256)  590080      conv4_block1_1_relu[0][0]        \n",
            "__________________________________________________________________________________________________\n",
            "conv4_block1_2_bn (BatchNormali (None, 14, 14, 256)  1024        conv4_block1_2_conv[0][0]        \n",
            "__________________________________________________________________________________________________\n",
            "conv4_block1_2_relu (Activation (None, 14, 14, 256)  0           conv4_block1_2_bn[0][0]          \n",
            "__________________________________________________________________________________________________\n",
            "conv4_block1_0_conv (Conv2D)    (None, 14, 14, 1024) 525312      conv3_block4_out[0][0]           \n",
            "__________________________________________________________________________________________________\n",
            "conv4_block1_3_conv (Conv2D)    (None, 14, 14, 1024) 263168      conv4_block1_2_relu[0][0]        \n",
            "__________________________________________________________________________________________________\n",
            "conv4_block1_0_bn (BatchNormali (None, 14, 14, 1024) 4096        conv4_block1_0_conv[0][0]        \n",
            "__________________________________________________________________________________________________\n",
            "conv4_block1_3_bn (BatchNormali (None, 14, 14, 1024) 4096        conv4_block1_3_conv[0][0]        \n",
            "__________________________________________________________________________________________________\n",
            "conv4_block1_add (Add)          (None, 14, 14, 1024) 0           conv4_block1_0_bn[0][0]          \n",
            "                                                                 conv4_block1_3_bn[0][0]          \n",
            "__________________________________________________________________________________________________\n",
            "conv4_block1_out (Activation)   (None, 14, 14, 1024) 0           conv4_block1_add[0][0]           \n",
            "__________________________________________________________________________________________________\n",
            "conv4_block2_1_conv (Conv2D)    (None, 14, 14, 256)  262400      conv4_block1_out[0][0]           \n",
            "__________________________________________________________________________________________________\n",
            "conv4_block2_1_bn (BatchNormali (None, 14, 14, 256)  1024        conv4_block2_1_conv[0][0]        \n",
            "__________________________________________________________________________________________________\n",
            "conv4_block2_1_relu (Activation (None, 14, 14, 256)  0           conv4_block2_1_bn[0][0]          \n",
            "__________________________________________________________________________________________________\n",
            "conv4_block2_2_conv (Conv2D)    (None, 14, 14, 256)  590080      conv4_block2_1_relu[0][0]        \n",
            "__________________________________________________________________________________________________\n",
            "conv4_block2_2_bn (BatchNormali (None, 14, 14, 256)  1024        conv4_block2_2_conv[0][0]        \n",
            "__________________________________________________________________________________________________\n",
            "conv4_block2_2_relu (Activation (None, 14, 14, 256)  0           conv4_block2_2_bn[0][0]          \n",
            "__________________________________________________________________________________________________\n",
            "conv4_block2_3_conv (Conv2D)    (None, 14, 14, 1024) 263168      conv4_block2_2_relu[0][0]        \n",
            "__________________________________________________________________________________________________\n",
            "conv4_block2_3_bn (BatchNormali (None, 14, 14, 1024) 4096        conv4_block2_3_conv[0][0]        \n",
            "__________________________________________________________________________________________________\n",
            "conv4_block2_add (Add)          (None, 14, 14, 1024) 0           conv4_block1_out[0][0]           \n",
            "                                                                 conv4_block2_3_bn[0][0]          \n",
            "__________________________________________________________________________________________________\n",
            "conv4_block2_out (Activation)   (None, 14, 14, 1024) 0           conv4_block2_add[0][0]           \n",
            "__________________________________________________________________________________________________\n",
            "conv4_block3_1_conv (Conv2D)    (None, 14, 14, 256)  262400      conv4_block2_out[0][0]           \n",
            "__________________________________________________________________________________________________\n",
            "conv4_block3_1_bn (BatchNormali (None, 14, 14, 256)  1024        conv4_block3_1_conv[0][0]        \n",
            "__________________________________________________________________________________________________\n",
            "conv4_block3_1_relu (Activation (None, 14, 14, 256)  0           conv4_block3_1_bn[0][0]          \n",
            "__________________________________________________________________________________________________\n",
            "conv4_block3_2_conv (Conv2D)    (None, 14, 14, 256)  590080      conv4_block3_1_relu[0][0]        \n",
            "__________________________________________________________________________________________________\n",
            "conv4_block3_2_bn (BatchNormali (None, 14, 14, 256)  1024        conv4_block3_2_conv[0][0]        \n",
            "__________________________________________________________________________________________________\n",
            "conv4_block3_2_relu (Activation (None, 14, 14, 256)  0           conv4_block3_2_bn[0][0]          \n",
            "__________________________________________________________________________________________________\n",
            "conv4_block3_3_conv (Conv2D)    (None, 14, 14, 1024) 263168      conv4_block3_2_relu[0][0]        \n",
            "__________________________________________________________________________________________________\n",
            "conv4_block3_3_bn (BatchNormali (None, 14, 14, 1024) 4096        conv4_block3_3_conv[0][0]        \n",
            "__________________________________________________________________________________________________\n",
            "conv4_block3_add (Add)          (None, 14, 14, 1024) 0           conv4_block2_out[0][0]           \n",
            "                                                                 conv4_block3_3_bn[0][0]          \n",
            "__________________________________________________________________________________________________\n",
            "conv4_block3_out (Activation)   (None, 14, 14, 1024) 0           conv4_block3_add[0][0]           \n",
            "__________________________________________________________________________________________________\n",
            "conv4_block4_1_conv (Conv2D)    (None, 14, 14, 256)  262400      conv4_block3_out[0][0]           \n",
            "__________________________________________________________________________________________________\n",
            "conv4_block4_1_bn (BatchNormali (None, 14, 14, 256)  1024        conv4_block4_1_conv[0][0]        \n",
            "__________________________________________________________________________________________________\n",
            "conv4_block4_1_relu (Activation (None, 14, 14, 256)  0           conv4_block4_1_bn[0][0]          \n",
            "__________________________________________________________________________________________________\n",
            "conv4_block4_2_conv (Conv2D)    (None, 14, 14, 256)  590080      conv4_block4_1_relu[0][0]        \n",
            "__________________________________________________________________________________________________\n",
            "conv4_block4_2_bn (BatchNormali (None, 14, 14, 256)  1024        conv4_block4_2_conv[0][0]        \n",
            "__________________________________________________________________________________________________\n",
            "conv4_block4_2_relu (Activation (None, 14, 14, 256)  0           conv4_block4_2_bn[0][0]          \n",
            "__________________________________________________________________________________________________\n",
            "conv4_block4_3_conv (Conv2D)    (None, 14, 14, 1024) 263168      conv4_block4_2_relu[0][0]        \n",
            "__________________________________________________________________________________________________\n",
            "conv4_block4_3_bn (BatchNormali (None, 14, 14, 1024) 4096        conv4_block4_3_conv[0][0]        \n",
            "__________________________________________________________________________________________________\n",
            "conv4_block4_add (Add)          (None, 14, 14, 1024) 0           conv4_block3_out[0][0]           \n",
            "                                                                 conv4_block4_3_bn[0][0]          \n",
            "__________________________________________________________________________________________________\n",
            "conv4_block4_out (Activation)   (None, 14, 14, 1024) 0           conv4_block4_add[0][0]           \n",
            "__________________________________________________________________________________________________\n",
            "conv4_block5_1_conv (Conv2D)    (None, 14, 14, 256)  262400      conv4_block4_out[0][0]           \n",
            "__________________________________________________________________________________________________\n",
            "conv4_block5_1_bn (BatchNormali (None, 14, 14, 256)  1024        conv4_block5_1_conv[0][0]        \n",
            "__________________________________________________________________________________________________\n",
            "conv4_block5_1_relu (Activation (None, 14, 14, 256)  0           conv4_block5_1_bn[0][0]          \n",
            "__________________________________________________________________________________________________\n",
            "conv4_block5_2_conv (Conv2D)    (None, 14, 14, 256)  590080      conv4_block5_1_relu[0][0]        \n",
            "__________________________________________________________________________________________________\n",
            "conv4_block5_2_bn (BatchNormali (None, 14, 14, 256)  1024        conv4_block5_2_conv[0][0]        \n",
            "__________________________________________________________________________________________________\n",
            "conv4_block5_2_relu (Activation (None, 14, 14, 256)  0           conv4_block5_2_bn[0][0]          \n",
            "__________________________________________________________________________________________________\n",
            "conv4_block5_3_conv (Conv2D)    (None, 14, 14, 1024) 263168      conv4_block5_2_relu[0][0]        \n",
            "__________________________________________________________________________________________________\n",
            "conv4_block5_3_bn (BatchNormali (None, 14, 14, 1024) 4096        conv4_block5_3_conv[0][0]        \n",
            "__________________________________________________________________________________________________\n",
            "conv4_block5_add (Add)          (None, 14, 14, 1024) 0           conv4_block4_out[0][0]           \n",
            "                                                                 conv4_block5_3_bn[0][0]          \n",
            "__________________________________________________________________________________________________\n",
            "conv4_block5_out (Activation)   (None, 14, 14, 1024) 0           conv4_block5_add[0][0]           \n",
            "__________________________________________________________________________________________________\n",
            "conv4_block6_1_conv (Conv2D)    (None, 14, 14, 256)  262400      conv4_block5_out[0][0]           \n",
            "__________________________________________________________________________________________________\n",
            "conv4_block6_1_bn (BatchNormali (None, 14, 14, 256)  1024        conv4_block6_1_conv[0][0]        \n",
            "__________________________________________________________________________________________________\n",
            "conv4_block6_1_relu (Activation (None, 14, 14, 256)  0           conv4_block6_1_bn[0][0]          \n",
            "__________________________________________________________________________________________________\n",
            "conv4_block6_2_conv (Conv2D)    (None, 14, 14, 256)  590080      conv4_block6_1_relu[0][0]        \n",
            "__________________________________________________________________________________________________\n",
            "conv4_block6_2_bn (BatchNormali (None, 14, 14, 256)  1024        conv4_block6_2_conv[0][0]        \n",
            "__________________________________________________________________________________________________\n",
            "conv4_block6_2_relu (Activation (None, 14, 14, 256)  0           conv4_block6_2_bn[0][0]          \n",
            "__________________________________________________________________________________________________\n",
            "conv4_block6_3_conv (Conv2D)    (None, 14, 14, 1024) 263168      conv4_block6_2_relu[0][0]        \n",
            "__________________________________________________________________________________________________\n",
            "conv4_block6_3_bn (BatchNormali (None, 14, 14, 1024) 4096        conv4_block6_3_conv[0][0]        \n",
            "__________________________________________________________________________________________________\n",
            "conv4_block6_add (Add)          (None, 14, 14, 1024) 0           conv4_block5_out[0][0]           \n",
            "                                                                 conv4_block6_3_bn[0][0]          \n",
            "__________________________________________________________________________________________________\n",
            "conv4_block6_out (Activation)   (None, 14, 14, 1024) 0           conv4_block6_add[0][0]           \n",
            "__________________________________________________________________________________________________\n",
            "conv5_block1_1_conv (Conv2D)    (None, 7, 7, 512)    524800      conv4_block6_out[0][0]           \n",
            "__________________________________________________________________________________________________\n",
            "conv5_block1_1_bn (BatchNormali (None, 7, 7, 512)    2048        conv5_block1_1_conv[0][0]        \n",
            "__________________________________________________________________________________________________\n",
            "conv5_block1_1_relu (Activation (None, 7, 7, 512)    0           conv5_block1_1_bn[0][0]          \n",
            "__________________________________________________________________________________________________\n",
            "conv5_block1_2_conv (Conv2D)    (None, 7, 7, 512)    2359808     conv5_block1_1_relu[0][0]        \n",
            "__________________________________________________________________________________________________\n",
            "conv5_block1_2_bn (BatchNormali (None, 7, 7, 512)    2048        conv5_block1_2_conv[0][0]        \n",
            "__________________________________________________________________________________________________\n",
            "conv5_block1_2_relu (Activation (None, 7, 7, 512)    0           conv5_block1_2_bn[0][0]          \n",
            "__________________________________________________________________________________________________\n",
            "conv5_block1_0_conv (Conv2D)    (None, 7, 7, 2048)   2099200     conv4_block6_out[0][0]           \n",
            "__________________________________________________________________________________________________\n",
            "conv5_block1_3_conv (Conv2D)    (None, 7, 7, 2048)   1050624     conv5_block1_2_relu[0][0]        \n",
            "__________________________________________________________________________________________________\n",
            "conv5_block1_0_bn (BatchNormali (None, 7, 7, 2048)   8192        conv5_block1_0_conv[0][0]        \n",
            "__________________________________________________________________________________________________\n",
            "conv5_block1_3_bn (BatchNormali (None, 7, 7, 2048)   8192        conv5_block1_3_conv[0][0]        \n",
            "__________________________________________________________________________________________________\n",
            "conv5_block1_add (Add)          (None, 7, 7, 2048)   0           conv5_block1_0_bn[0][0]          \n",
            "                                                                 conv5_block1_3_bn[0][0]          \n",
            "__________________________________________________________________________________________________\n",
            "conv5_block1_out (Activation)   (None, 7, 7, 2048)   0           conv5_block1_add[0][0]           \n",
            "__________________________________________________________________________________________________\n",
            "conv5_block2_1_conv (Conv2D)    (None, 7, 7, 512)    1049088     conv5_block1_out[0][0]           \n",
            "__________________________________________________________________________________________________\n",
            "conv5_block2_1_bn (BatchNormali (None, 7, 7, 512)    2048        conv5_block2_1_conv[0][0]        \n",
            "__________________________________________________________________________________________________\n",
            "conv5_block2_1_relu (Activation (None, 7, 7, 512)    0           conv5_block2_1_bn[0][0]          \n",
            "__________________________________________________________________________________________________\n",
            "conv5_block2_2_conv (Conv2D)    (None, 7, 7, 512)    2359808     conv5_block2_1_relu[0][0]        \n",
            "__________________________________________________________________________________________________\n",
            "conv5_block2_2_bn (BatchNormali (None, 7, 7, 512)    2048        conv5_block2_2_conv[0][0]        \n",
            "__________________________________________________________________________________________________\n",
            "conv5_block2_2_relu (Activation (None, 7, 7, 512)    0           conv5_block2_2_bn[0][0]          \n",
            "__________________________________________________________________________________________________\n",
            "conv5_block2_3_conv (Conv2D)    (None, 7, 7, 2048)   1050624     conv5_block2_2_relu[0][0]        \n",
            "__________________________________________________________________________________________________\n",
            "conv5_block2_3_bn (BatchNormali (None, 7, 7, 2048)   8192        conv5_block2_3_conv[0][0]        \n",
            "__________________________________________________________________________________________________\n",
            "conv5_block2_add (Add)          (None, 7, 7, 2048)   0           conv5_block1_out[0][0]           \n",
            "                                                                 conv5_block2_3_bn[0][0]          \n",
            "__________________________________________________________________________________________________\n",
            "conv5_block2_out (Activation)   (None, 7, 7, 2048)   0           conv5_block2_add[0][0]           \n",
            "__________________________________________________________________________________________________\n",
            "conv5_block3_1_conv (Conv2D)    (None, 7, 7, 512)    1049088     conv5_block2_out[0][0]           \n",
            "__________________________________________________________________________________________________\n",
            "conv5_block3_1_bn (BatchNormali (None, 7, 7, 512)    2048        conv5_block3_1_conv[0][0]        \n",
            "__________________________________________________________________________________________________\n",
            "conv5_block3_1_relu (Activation (None, 7, 7, 512)    0           conv5_block3_1_bn[0][0]          \n",
            "__________________________________________________________________________________________________\n",
            "conv5_block3_2_conv (Conv2D)    (None, 7, 7, 512)    2359808     conv5_block3_1_relu[0][0]        \n",
            "__________________________________________________________________________________________________\n",
            "conv5_block3_2_bn (BatchNormali (None, 7, 7, 512)    2048        conv5_block3_2_conv[0][0]        \n",
            "__________________________________________________________________________________________________\n",
            "conv5_block3_2_relu (Activation (None, 7, 7, 512)    0           conv5_block3_2_bn[0][0]          \n",
            "__________________________________________________________________________________________________\n",
            "conv5_block3_3_conv (Conv2D)    (None, 7, 7, 2048)   1050624     conv5_block3_2_relu[0][0]        \n",
            "__________________________________________________________________________________________________\n",
            "conv5_block3_3_bn (BatchNormali (None, 7, 7, 2048)   8192        conv5_block3_3_conv[0][0]        \n",
            "__________________________________________________________________________________________________\n",
            "conv5_block3_add (Add)          (None, 7, 7, 2048)   0           conv5_block2_out[0][0]           \n",
            "                                                                 conv5_block3_3_bn[0][0]          \n",
            "__________________________________________________________________________________________________\n",
            "conv5_block3_out (Activation)   (None, 7, 7, 2048)   0           conv5_block3_add[0][0]           \n",
            "__________________________________________________________________________________________________\n",
            "avg_pool (GlobalAveragePooling2 (None, 2048)         0           conv5_block3_out[0][0]           \n",
            "__________________________________________________________________________________________________\n",
            "new_flatten (Flatten)           (None, 2048)         0           avg_pool[0][0]                   \n",
            "__________________________________________________________________________________________________\n",
            "new_fc (Dense)                  (None, 1024)         2098176     new_flatten[0][0]                \n",
            "==================================================================================================\n",
            "Total params: 25,685,888\n",
            "Trainable params: 3,153,920\n",
            "Non-trainable params: 22,531,968\n",
            "__________________________________________________________________________________________________\n"
          ]
        }
      ]
    },
    {
      "cell_type": "markdown",
      "metadata": {
        "id": "SBA30P5DhrBO"
      },
      "source": [
        "Predicts the feature using vgg16 model"
      ]
    },
    {
      "cell_type": "code",
      "metadata": {
        "id": "fBXbh5nKZ7b9"
      },
      "source": [
        "def vgg_feature_ext(img_data):\n",
        "  vgg16_feature = vgg_model.predict(img_data)\n",
        "  \n",
        "\n",
        "  return vgg16_feature"
      ],
      "execution_count": 37,
      "outputs": []
    },
    {
      "cell_type": "markdown",
      "metadata": {
        "id": "WPhCxEqKhwt2"
      },
      "source": [
        "Predicts the feature using Resnet50 model"
      ]
    },
    {
      "cell_type": "code",
      "metadata": {
        "id": "E01FHg-VjfDz"
      },
      "source": [
        "def resnet_feature_ext(img_data):\n",
        "  resnet_feature = resnet_model.predict(img_data)\n",
        "\n",
        "  return resnet_feature"
      ],
      "execution_count": 52,
      "outputs": []
    },
    {
      "cell_type": "markdown",
      "metadata": {
        "id": "aZ5c7TxHh120"
      },
      "source": [
        "Feature Extraction on images "
      ]
    },
    {
      "cell_type": "code",
      "metadata": {
        "colab": {
          "base_uri": "https://localhost:8080/"
        },
        "id": "uI87G48OVnRI",
        "outputId": "2ad23c00-f762-4b4b-c01d-787ca147b65b"
      },
      "source": [
        "from sklearn import preprocessing\n",
        "vgg_features_list = []\n",
        "resnet_features_list = []\n",
        "output_list=[]\n",
        "for f in folders:\n",
        "  image_files = os.listdir(os.path.join(os.getcwd(),f))\n",
        "  for i in image_files:\n",
        "    img = cv2.imread(os.path.join(f, i), cv2.IMREAD_UNCHANGED)\n",
        "    #print(\"size of imaage is\",img.shape)\n",
        "    resized = cv2.resize(img, (224,224), interpolation = cv2.INTER_AREA)\n",
        "    #print(\"resized imaage size \",resized.shape)\n",
        "    backtorgb = cv2.cvtColor(resized,cv2.COLOR_GRAY2RGB)\n",
        "    img_data = image.img_to_array(backtorgb)\n",
        "    img_data = np.expand_dims(img_data, axis=0)\n",
        "    img_data = preprocess_input(img_data)\n",
        "    \n",
        "    vgg_features = vgg_feature_ext(img_data)\n",
        "    vgg_features_np = np.array(vgg_features)\n",
        "    \n",
        "    \n",
        "    vgg_scaler = preprocessing.StandardScaler().fit(vgg_features_np)\n",
        "    vgg_scaler.transform(vgg_features_np)\n",
        "    vgg_final = vgg_features_np.flatten()\n",
        "    vgg_features_list.append(vgg_final)\n",
        "\n",
        "    resnet_features = resnet_feature_ext(img_data)\n",
        "    resnet_features_np = np.array(resnet_features)\n",
        "    resnet_scaler = preprocessing.StandardScaler().fit(resnet_features_np)\n",
        "    resnet_scaler.transform(resnet_features_np)\n",
        "    resnet_final = resnet_features_np.flatten()\n",
        "    resnet_features_list.append(resnet_final)\n",
        "    \n",
        "    x= i.split(\"_\")\n",
        "    #print(x[2])\n",
        "    if int(x[2]) == 1:\n",
        "      output_list.append(0)\n",
        "      # 0 means sober     \n",
        "      #print(\"added\")\n",
        "    #elif int(x[2]) == 2:\n",
        "      #output_list.append(2)\n",
        "    #elif int(x[2]) == 3:\n",
        "      #output_list.append(3)\n",
        "    else:\n",
        "      output_list.append(1)\n",
        "      #1 means drunk\n",
        "output_list_np = np.array(output_list)\n",
        "print(output_list_np.shape)\n",
        "\n",
        "vgg_features_list_np = np.array(vgg_features_list)\n",
        "resnet_features_list_np = np.array(resnet_features_list)\n",
        "print(\"shape of vgg_features\")\n",
        "print(vgg_features_list_np.shape)\n",
        "print(\"shape of resnet_features\")\n",
        "print(resnet_features_list_np.shape)\n",
        "   "
      ],
      "execution_count": 54,
      "outputs": [
        {
          "output_type": "stream",
          "name": "stdout",
          "text": [
            "(649,)\n",
            "shape of vgg_features\n",
            "(649, 1024)\n",
            "shape of resnet_features\n",
            "(649, 1024)\n"
          ]
        }
      ]
    },
    {
      "cell_type": "code",
      "metadata": {
        "id": "W9pRr2V4qRtO"
      },
      "source": [
        "vgg_newf = vgg_features_list_np.copy()\n",
        "resnet_newf = resnet_features_list_np.copy()\n",
        "newo = output_list_np.copy()"
      ],
      "execution_count": 55,
      "outputs": []
    },
    {
      "cell_type": "markdown",
      "metadata": {
        "id": "-tUevwx_h9dg"
      },
      "source": [
        "**Training Models**"
      ]
    },
    {
      "cell_type": "code",
      "metadata": {
        "id": "xXJNnbchaYFe"
      },
      "source": [
        "from sklearn.model_selection import train_test_split\n",
        "\n",
        "from sklearn.metrics import classification_report\n",
        "from sklearn.metrics import roc_auc_score,confusion_matrix,classification_report\n",
        "from sklearn.model_selection import learning_curve,StratifiedKFold\n",
        "import seaborn as sns \n",
        "from sklearn.linear_model import LogisticRegression\n",
        "from sklearn.neural_network import MLPClassifier\n",
        "from sklearn.datasets import make_classification\n",
        "from sklearn import tree"
      ],
      "execution_count": 56,
      "outputs": []
    },
    {
      "cell_type": "markdown",
      "metadata": {
        "id": "3-11pr1XamC2"
      },
      "source": [
        "**Logistic Regression**\n"
      ]
    },
    {
      "cell_type": "code",
      "metadata": {
        "id": "MQfcp7WgnNMp"
      },
      "source": [
        "def logistic_regression(X_train, X_test, y_train, y_test):\n",
        "  clf1 = LogisticRegression(max_iter=2000).fit(X_train, y_train)\n",
        "  print(\"training accuracy\")\n",
        "  print(clf1.score(X_train, y_train))\n",
        "  print(\"Testing accuracy\")\n",
        "  print(clf1.score(X_test, y_test))\n",
        "\n",
        "  y_pred2=clf1.predict(X_test)\n",
        "\n",
        "  target_names = ['Sober', 'Drunk']\n",
        "  print(classification_report(y_test, y_pred2, target_names=target_names))\n",
        "  print('ROC-AUC:',round(roc_auc_score(y_test,y_pred2),4))\n",
        "  # Confusion Matrix\n",
        "\n",
        "  cm = confusion_matrix(y_test, y_pred2).T\n",
        "  cm = cm.astype('float')/cm.sum(axis=0)\n",
        "  ax = sns.heatmap(cm, annot=True, cmap='Blues');\n",
        "  ax.set_xlabel('True Label',size=12)\n",
        "  ax.set_ylabel('Predicted Label',size=12)"
      ],
      "execution_count": 66,
      "outputs": []
    },
    {
      "cell_type": "markdown",
      "metadata": {
        "id": "0wp7ZHUKorIv"
      },
      "source": [
        "**MLP Classifier**"
      ]
    },
    {
      "cell_type": "code",
      "metadata": {
        "id": "LgLT8nLpoGuq"
      },
      "source": [
        "def MLP_Classifier(X_train, X_test, y_train, y_test):\n",
        "  clf = MLPClassifier(random_state=1, max_iter=4000).fit(X_train, y_train)\n",
        "  #clf.predict(X_test)\n",
        "  y_pred=clf.predict(X_test)\n",
        "\n",
        "  print(\"training accuracy\")\n",
        "  print(clf.score(X_train, y_train))\n",
        "  print(\"Testing accuracy\")\n",
        "  print(clf.score(X_test, y_test))\n",
        "\n",
        "  target_names = ['Sober', 'Drunk']\n",
        "  print(classification_report(y_test, y_pred, target_names=target_names))\n",
        "  print('ROC-AUC:',round(roc_auc_score(y_test,y_pred),4))\n",
        "  # Confusion Matrix\n",
        "\n",
        "  cm = confusion_matrix(y_test, y_pred).T\n",
        "  cm = cm.astype('float')/cm.sum(axis=0)\n",
        "  ax = sns.heatmap(cm, annot=True, cmap='Blues');\n",
        "  ax.set_xlabel('True Label',size=12)\n",
        "  ax.set_ylabel('Predicted Label',size=12)"
      ],
      "execution_count": 58,
      "outputs": []
    },
    {
      "cell_type": "markdown",
      "metadata": {
        "id": "OASILWfsoyFT"
      },
      "source": [
        "**Decision Tree**"
      ]
    },
    {
      "cell_type": "code",
      "metadata": {
        "id": "g_AZ0JBjohar"
      },
      "source": [
        "def Decision_Tree(X_train, X_test, y_train, y_test):\n",
        "  \n",
        "  model = tree.DecisionTreeClassifier()\n",
        "  model.fit(X_train, y_train)\n",
        "  print(\"training accuracy\")\n",
        "  print(model.score(X_train, y_train))\n",
        "  print(\"Testing accuracy\")\n",
        "  print(model.score(X_test, y_test))\n",
        "\n",
        "  y_pred1= model.predict(X_test)\n",
        "\n",
        "  target_names = ['Sober', 'Drunk']\n",
        "  print(classification_report(y_test, y_pred1, target_names=target_names))\n",
        "  print('ROC-AUC:',round(roc_auc_score(y_test,y_pred1),4))\n",
        "  # Confusion Matrix\n",
        " \n",
        "  cm = confusion_matrix(y_test, y_pred1).T\n",
        "  cm = cm.astype('float')/cm.sum(axis=0)\n",
        "  ax = sns.heatmap(cm, annot=True, cmap='Blues');\n",
        "  ax.set_xlabel('True Label',size=12)\n",
        "  ax.set_ylabel('Predicted Label',size=12)\n"
      ],
      "execution_count": 59,
      "outputs": []
    },
    {
      "cell_type": "markdown",
      "metadata": {
        "id": "TREwH74zpp4H"
      },
      "source": [
        "# Model using VGG features "
      ]
    },
    {
      "cell_type": "code",
      "metadata": {
        "colab": {
          "base_uri": "https://localhost:8080/",
          "height": 560
        },
        "id": "Zi9HVLYIpqX9",
        "outputId": "9e1bcc7d-da5b-4122-a110-c223222aaa6b"
      },
      "source": [
        "#training and testing data split\n",
        "X_train, X_test, y_train, y_test = train_test_split(vgg_newf, newo, test_size=0.2, stratify=newo,random_state=42)\n",
        "print(\"\\n Logistic regression Results\")\n",
        "logistic_regression(X_train, X_test, y_train, y_test)\n",
        "\n"
      ],
      "execution_count": 67,
      "outputs": [
        {
          "output_type": "stream",
          "name": "stdout",
          "text": [
            "\n",
            " Logistic regression Results\n",
            "training accuracy\n",
            "0.9942196531791907\n",
            "Testing accuracy\n",
            "0.6692307692307692\n",
            "              precision    recall  f1-score   support\n",
            "\n",
            "       Sober       0.31      0.24      0.27        33\n",
            "       Drunk       0.76      0.81      0.79        97\n",
            "\n",
            "    accuracy                           0.67       130\n",
            "   macro avg       0.53      0.53      0.53       130\n",
            "weighted avg       0.64      0.67      0.66       130\n",
            "\n",
            "ROC-AUC: 0.5284\n"
          ]
        },
        {
          "output_type": "display_data",
          "data": {
            "image/png": "[encoded data removed]",
            "text/plain": [
              "<Figure size 432x288 with 2 Axes>"
            ]
          },
          "metadata": {
            "needs_background": "light"
          }
        }
      ]
    },
    {
      "cell_type": "code",
      "metadata": {
        "colab": {
          "base_uri": "https://localhost:8080/",
          "height": 560
        },
        "id": "D_sTsFE9lKKJ",
        "outputId": "c377697d-21fb-49ef-8ece-9f5981428a93"
      },
      "source": [
        "print(\"\\n Multi Layer Perceptron Classifier\")\n",
        "MLP_Classifier(X_train, X_test, y_train, y_test)\n"
      ],
      "execution_count": 61,
      "outputs": [
        {
          "output_type": "stream",
          "name": "stdout",
          "text": [
            "\n",
            " Multi Layer Perceptron Classifier\n",
            "training accuracy\n",
            "0.9518304431599229\n",
            "Testing accuracy\n",
            "0.7461538461538462\n",
            "              precision    recall  f1-score   support\n",
            "\n",
            "       Sober       0.50      0.21      0.30        33\n",
            "       Drunk       0.78      0.93      0.85        97\n",
            "\n",
            "    accuracy                           0.75       130\n",
            "   macro avg       0.64      0.57      0.57       130\n",
            "weighted avg       0.71      0.75      0.71       130\n",
            "\n",
            "ROC-AUC: 0.57\n"
          ]
        },
        {
          "output_type": "display_data",
          "data": {
            "image/png": "[encoded data removed]",
            "text/plain": [
              "<Figure size 432x288 with 2 Axes>"
            ]
          },
          "metadata": {
            "needs_background": "light"
          }
        }
      ]
    },
    {
      "cell_type": "code",
      "metadata": {
        "colab": {
          "base_uri": "https://localhost:8080/",
          "height": 560
        },
        "id": "s6emUYHmlOqd",
        "outputId": "37938850-e6ce-4919-fef4-5e37ceeb5651"
      },
      "source": [
        "\n",
        "print(\"\\n Decision Tree Classifier\")\n",
        "Decision_Tree(X_train, X_test, y_train, y_test)"
      ],
      "execution_count": 62,
      "outputs": [
        {
          "output_type": "stream",
          "name": "stdout",
          "text": [
            "\n",
            " Decision Tree Classifier\n",
            "training accuracy\n",
            "1.0\n",
            "Testing accuracy\n",
            "0.6538461538461539\n",
            "              precision    recall  f1-score   support\n",
            "\n",
            "       Sober       0.31      0.30      0.31        33\n",
            "       Drunk       0.77      0.77      0.77        97\n",
            "\n",
            "    accuracy                           0.65       130\n",
            "   macro avg       0.54      0.54      0.54       130\n",
            "weighted avg       0.65      0.65      0.65       130\n",
            "\n",
            "ROC-AUC: 0.5381\n"
          ]
        },
        {
          "output_type": "display_data",
          "data": {
            "image/png": "[encoded data removed]",
            "text/plain": [
              "<Figure size 432x288 with 2 Axes>"
            ]
          },
          "metadata": {
            "needs_background": "light"
          }
        }
      ]
    },
    {
      "cell_type": "markdown",
      "metadata": {
        "id": "aBubZPsqpYil"
      },
      "source": [
        "# Model using Resnet Feature"
      ]
    },
    {
      "cell_type": "code",
      "metadata": {
        "colab": {
          "base_uri": "https://localhost:8080/",
          "height": 560
        },
        "id": "l6RLQHZdpc1d",
        "outputId": "dc61b125-908c-4291-ab3d-8c2ef4d41e09"
      },
      "source": [
        "#training and testing data split\n",
        "X_train, X_test, y_train, y_test = train_test_split(resnet_newf, newo, test_size=0.2, stratify=newo,random_state=42)\n",
        "print(\"\\n Logistic regression Results\")\n",
        "logistic_regression(X_train, X_test, y_train, y_test)\n",
        "\n"
      ],
      "execution_count": 68,
      "outputs": [
        {
          "output_type": "stream",
          "name": "stdout",
          "text": [
            "\n",
            " Logistic regression Results\n",
            "training accuracy\n",
            "0.9826589595375722\n",
            "Testing accuracy\n",
            "0.7692307692307693\n",
            "              precision    recall  f1-score   support\n",
            "\n",
            "       Sober       0.60      0.27      0.37        33\n",
            "       Drunk       0.79      0.94      0.86        97\n",
            "\n",
            "    accuracy                           0.77       130\n",
            "   macro avg       0.70      0.61      0.62       130\n",
            "weighted avg       0.74      0.77      0.74       130\n",
            "\n",
            "ROC-AUC: 0.6054\n"
          ]
        },
        {
          "output_type": "display_data",
          "data": {
            "image/png": "[encoded data removed]",
            "text/plain": [
              "<Figure size 432x288 with 2 Axes>"
            ]
          },
          "metadata": {
            "needs_background": "light"
          }
        }
      ]
    },
    {
      "cell_type": "code",
      "metadata": {
        "id": "hEhPKhbfpc5j",
        "colab": {
          "base_uri": "https://localhost:8080/",
          "height": 564
        },
        "outputId": "e840f595-0887-48ac-a363-0b1488707e37"
      },
      "source": [
        "print(\"\\n Multi Layer Perceptron Classifier\")\n",
        "MLP_Classifier(X_train, X_test, y_train, y_test)\n"
      ],
      "execution_count": 64,
      "outputs": [
        {
          "output_type": "stream",
          "name": "stdout",
          "text": [
            "\n",
            " Multi Layer Perceptron Classifier\n",
            "training accuracy\n",
            "0.838150289017341\n",
            "Testing accuracy\n",
            "0.7769230769230769\n",
            "              precision    recall  f1-score   support\n",
            "\n",
            "       Sober       1.00      0.12      0.22        33\n",
            "       Drunk       0.77      1.00      0.87        97\n",
            "\n",
            "    accuracy                           0.78       130\n",
            "   macro avg       0.88      0.56      0.54       130\n",
            "weighted avg       0.83      0.78      0.70       130\n",
            "\n",
            "ROC-AUC: 0.5606\n"
          ]
        },
        {
          "output_type": "display_data",
          "data": {
            "image/png": "[encoded data removed]",
            "text/plain": [
              "<Figure size 432x288 with 2 Axes>"
            ]
          },
          "metadata": {
            "needs_background": "light"
          }
        }
      ]
    },
    {
      "cell_type": "code",
      "metadata": {
        "id": "RZnPiAAWpc9h",
        "colab": {
          "base_uri": "https://localhost:8080/",
          "height": 563
        },
        "outputId": "c5849c29-44cd-4995-cccf-509e1ef53f7c"
      },
      "source": [
        "\n",
        "print(\"\\n Decision Tree Classifier\")\n",
        "Decision_Tree(X_train, X_test, y_train, y_test)"
      ],
      "execution_count": 65,
      "outputs": [
        {
          "output_type": "stream",
          "name": "stdout",
          "text": [
            "\n",
            " Decision Tree Classifier\n",
            "training accuracy\n",
            "1.0\n",
            "Testing accuracy\n",
            "0.676923076923077\n",
            "              precision    recall  f1-score   support\n",
            "\n",
            "       Sober       0.34      0.30      0.32        33\n",
            "       Drunk       0.77      0.80      0.79        97\n",
            "\n",
            "    accuracy                           0.68       130\n",
            "   macro avg       0.56      0.55      0.56       130\n",
            "weighted avg       0.66      0.68      0.67       130\n",
            "\n",
            "ROC-AUC: 0.5536\n"
          ]
        },
        {
          "output_type": "display_data",
          "data": {
            "image/png": "[encoded data removed]",
            "text/plain": [
              "<Figure size 432x288 with 2 Axes>"
            ]
          },
          "metadata": {
            "needs_background": "light"
          }
        }
      ]
    },
    {
      "cell_type": "code",
      "metadata": {
        "id": "VH4VfFipbqXa"
      },
      "source": [
        ""
      ],
      "execution_count": null,
      "outputs": []
    },
    {
      "cell_type": "markdown",
      "metadata": {
        "id": "1AS8v2Tnb_QP"
      },
      "source": [
        "# **Version 2**"
      ]
    },
    {
      "cell_type": "markdown",
      "metadata": {
        "id": "AQTV0x5AhNBj"
      },
      "source": [
        "**Feature Extraction without hand images**"
      ]
    },
    {
      "cell_type": "code",
      "metadata": {
        "colab": {
          "base_uri": "https://localhost:8080/"
        },
        "id": "fEs6PXMNjwf7",
        "outputId": "67dcc9d1-5ef6-430e-9e5b-f1d3fe0a5ba7"
      },
      "source": [
        "vgg_features_list = []\n",
        "resnet_features_list = []\n",
        "output_list=[]\n",
        "for f in folders:\n",
        "  image_files = os.listdir(os.path.join(os.getcwd(),f))\n",
        "  for i in image_files:\n",
        "    x= i.split(\"_\")\n",
        "    if x[3]=='h':\n",
        "      pass\n",
        "    else:\n",
        "      img = cv2.imread(os.path.join(f, i), cv2.IMREAD_UNCHANGED)\n",
        "      #print(\"size of imaage is\",img.shape)\n",
        "      resized = cv2.resize(img, (224,224), interpolation = cv2.INTER_AREA)\n",
        "      #print(\"resized imaage size \",resized.shape)\n",
        "      backtorgb = cv2.cvtColor(resized,cv2.COLOR_GRAY2RGB)\n",
        "      img_data = image.img_to_array(backtorgb)\n",
        "      img_data = np.expand_dims(img_data, axis=0)\n",
        "      img_data = preprocess_input(img_data)\n",
        "      \n",
        "      vgg_features = vgg_feature_ext(img_data)\n",
        "      vgg_features_np = np.array(vgg_features)\n",
        "      \n",
        "      \n",
        "      vgg_scaler = preprocessing.StandardScaler().fit(vgg_features_np)\n",
        "      vgg_scaler.transform(vgg_features_np)\n",
        "      vgg_final = vgg_features_np.flatten()\n",
        "      vgg_features_list.append(vgg_final)\n",
        "\n",
        "      resnet_features = resnet_feature_ext(img_data)\n",
        "      resnet_features_np = np.array(resnet_features)\n",
        "      resnet_scaler = preprocessing.StandardScaler().fit(resnet_features_np)\n",
        "      resnet_scaler.transform(resnet_features_np)\n",
        "      resnet_final = resnet_features_np.flatten()\n",
        "      resnet_features_list.append(resnet_final)\n",
        "      \n",
        "      x= i.split(\"_\")\n",
        "      #print(x[2])\n",
        "      if int(x[2]) == 1:\n",
        "        output_list.append(0)\n",
        "        # 0 means sober     \n",
        "        #print(\"added\")\n",
        "      #elif int(x[2]) == 2:\n",
        "        #output_list.append(2)\n",
        "      #elif int(x[2]) == 3:\n",
        "        #output_list.append(3)\n",
        "      else:\n",
        "        output_list.append(1)\n",
        "        #1 means drunk\n",
        "\n",
        "output_list_np = np.array(output_list)\n",
        "print(output_list_np.shape)\n",
        "\n",
        "vgg_features_list_np = np.array(vgg_features_list)\n",
        "resnet_features_list_np = np.array(resnet_features_list)\n",
        "print(\"shape of vgg_features\")\n",
        "print(vgg_features_list_np.shape)\n",
        "print(\"shape of resnet_features\")\n",
        "print(resnet_features_list_np.shape)\n",
        "   "
      ],
      "execution_count": 69,
      "outputs": [
        {
          "output_type": "stream",
          "name": "stdout",
          "text": [
            "(487,)\n",
            "shape of vgg_features\n",
            "(487, 1024)\n",
            "shape of resnet_features\n",
            "(487, 1024)\n"
          ]
        }
      ]
    },
    {
      "cell_type": "code",
      "metadata": {
        "id": "KPl6RAZNgnlH"
      },
      "source": [
        "vgg_newf = vgg_features_list_np.copy()\n",
        "resnet_newf = resnet_features_list_np.copy()\n",
        "newo = output_list_np.copy()"
      ],
      "execution_count": 70,
      "outputs": []
    },
    {
      "cell_type": "markdown",
      "metadata": {
        "id": "jf5jPINpg7kq"
      },
      "source": [
        "**Model using VGG feature and without hand images**"
      ]
    },
    {
      "cell_type": "code",
      "metadata": {
        "colab": {
          "base_uri": "https://localhost:8080/",
          "height": 564
        },
        "id": "EFE7NgTqg0hh",
        "outputId": "da2a72dc-644f-4e4b-df63-09fbb3acdfb6"
      },
      "source": [
        "#training and testing data split\n",
        "X_train, X_test, y_train, y_test = train_test_split(vgg_newf, newo, test_size=0.2, stratify=newo,random_state=42)\n",
        "print(\"\\n Logistic regression Results\")\n",
        "logistic_regression(X_train, X_test, y_train, y_test)\n",
        "\n"
      ],
      "execution_count": 71,
      "outputs": [
        {
          "output_type": "stream",
          "name": "stdout",
          "text": [
            "\n",
            " Logistic regression Results\n",
            "training accuracy\n",
            "0.9974293059125964\n",
            "Testing accuracy\n",
            "0.6020408163265306\n",
            "              precision    recall  f1-score   support\n",
            "\n",
            "       Sober       0.21      0.20      0.20        25\n",
            "       Drunk       0.73      0.74      0.73        73\n",
            "\n",
            "    accuracy                           0.60        98\n",
            "   macro avg       0.47      0.47      0.47        98\n",
            "weighted avg       0.60      0.60      0.60        98\n",
            "\n",
            "ROC-AUC: 0.4699\n"
          ]
        },
        {
          "output_type": "display_data",
          "data": {
            "image/png": "[encoded data removed]",
            "text/plain": [
              "<Figure size 432x288 with 2 Axes>"
            ]
          },
          "metadata": {
            "needs_background": "light"
          }
        }
      ]
    },
    {
      "cell_type": "code",
      "metadata": {
        "colab": {
          "base_uri": "https://localhost:8080/",
          "height": 560
        },
        "id": "ncFGQt9xouLj",
        "outputId": "848ddd32-857e-452b-88d6-fe85465e7f02"
      },
      "source": [
        "print(\"\\n Multi Layer Perceptron Classifier\")\n",
        "MLP_Classifier(X_train, X_test, y_train, y_test)\n"
      ],
      "execution_count": 72,
      "outputs": [
        {
          "output_type": "stream",
          "name": "stdout",
          "text": [
            "\n",
            " Multi Layer Perceptron Classifier\n",
            "training accuracy\n",
            "0.9768637532133676\n",
            "Testing accuracy\n",
            "0.6224489795918368\n",
            "              precision    recall  f1-score   support\n",
            "\n",
            "       Sober       0.12      0.08      0.10        25\n",
            "       Drunk       0.72      0.81      0.76        73\n",
            "\n",
            "    accuracy                           0.62        98\n",
            "   macro avg       0.42      0.44      0.43        98\n",
            "weighted avg       0.57      0.62      0.59        98\n",
            "\n",
            "ROC-AUC: 0.4441\n"
          ]
        },
        {
          "output_type": "display_data",
          "data": {
            "image/png": "[encoded data removed]",
            "text/plain": [
              "<Figure size 432x288 with 2 Axes>"
            ]
          },
          "metadata": {
            "needs_background": "light"
          }
        }
      ]
    },
    {
      "cell_type": "code",
      "metadata": {
        "colab": {
          "base_uri": "https://localhost:8080/",
          "height": 560
        },
        "id": "cFBTSSMKo2up",
        "outputId": "dfad1d5e-d57a-4984-b0c9-2ad63f89f36f"
      },
      "source": [
        "\n",
        "print(\"\\n Decision Tree Classifier\")\n",
        "Decision_Tree(X_train, X_test, y_train, y_test)"
      ],
      "execution_count": 73,
      "outputs": [
        {
          "output_type": "stream",
          "name": "stdout",
          "text": [
            "\n",
            " Decision Tree Classifier\n",
            "training accuracy\n",
            "1.0\n",
            "Testing accuracy\n",
            "0.5510204081632653\n",
            "              precision    recall  f1-score   support\n",
            "\n",
            "       Sober       0.12      0.12      0.12        25\n",
            "       Drunk       0.70      0.70      0.70        73\n",
            "\n",
            "    accuracy                           0.55        98\n",
            "   macro avg       0.41      0.41      0.41        98\n",
            "weighted avg       0.55      0.55      0.55        98\n",
            "\n",
            "ROC-AUC: 0.4093\n"
          ]
        },
        {
          "output_type": "display_data",
          "data": {
            "image/png": "[encoded data removed]",
            "text/plain": [
              "<Figure size 432x288 with 2 Axes>"
            ]
          },
          "metadata": {
            "needs_background": "light"
          }
        }
      ]
    },
    {
      "cell_type": "markdown",
      "metadata": {
        "id": "s8jvhtHshE5Q"
      },
      "source": [
        "**Model using Resnet feature and without hand images**"
      ]
    },
    {
      "cell_type": "code",
      "metadata": {
        "colab": {
          "base_uri": "https://localhost:8080/",
          "height": 560
        },
        "id": "TktWmNvXg1Cw",
        "outputId": "4374aef3-8af4-41fe-ee5d-3ea0a85a4fa1"
      },
      "source": [
        "#training and testing data split\n",
        "X_train, X_test, y_train, y_test = train_test_split(resnet_newf, newo, test_size=0.2, stratify=newo,random_state=42)\n",
        "print(\"\\n Logistic regression Results\")\n",
        "logistic_regression(X_train, X_test, y_train, y_test)\n",
        "\n"
      ],
      "execution_count": 74,
      "outputs": [
        {
          "output_type": "stream",
          "name": "stdout",
          "text": [
            "\n",
            " Logistic regression Results\n",
            "training accuracy\n",
            "0.987146529562982\n",
            "Testing accuracy\n",
            "0.6938775510204082\n",
            "              precision    recall  f1-score   support\n",
            "\n",
            "       Sober       0.41      0.48      0.44        25\n",
            "       Drunk       0.81      0.77      0.79        73\n",
            "\n",
            "    accuracy                           0.69        98\n",
            "   macro avg       0.61      0.62      0.62        98\n",
            "weighted avg       0.71      0.69      0.70        98\n",
            "\n",
            "ROC-AUC: 0.6236\n"
          ]
        },
        {
          "output_type": "display_data",
          "data": {
            "image/png": "[encoded data removed]",
            "text/plain": [
              "<Figure size 432x288 with 2 Axes>"
            ]
          },
          "metadata": {
            "needs_background": "light"
          }
        }
      ]
    },
    {
      "cell_type": "code",
      "metadata": {
        "id": "JQvVMQjzhbwZ",
        "colab": {
          "base_uri": "https://localhost:8080/",
          "height": 560
        },
        "outputId": "84698a27-d8d5-4ae1-cc9a-0be809c6be5d"
      },
      "source": [
        "print(\"\\n Multi Layer Perceptron Classifier\")\n",
        "MLP_Classifier(X_train, X_test, y_train, y_test)\n",
        "\n"
      ],
      "execution_count": 75,
      "outputs": [
        {
          "output_type": "stream",
          "name": "stdout",
          "text": [
            "\n",
            " Multi Layer Perceptron Classifier\n",
            "training accuracy\n",
            "0.794344473007712\n",
            "Testing accuracy\n",
            "0.7346938775510204\n",
            "              precision    recall  f1-score   support\n",
            "\n",
            "       Sober       0.33      0.04      0.07        25\n",
            "       Drunk       0.75      0.97      0.85        73\n",
            "\n",
            "    accuracy                           0.73        98\n",
            "   macro avg       0.54      0.51      0.46        98\n",
            "weighted avg       0.64      0.73      0.65        98\n",
            "\n",
            "ROC-AUC: 0.5063\n"
          ]
        },
        {
          "output_type": "display_data",
          "data": {
            "image/png": "[encoded data removed]",
            "text/plain": [
              "<Figure size 432x288 with 2 Axes>"
            ]
          },
          "metadata": {
            "needs_background": "light"
          }
        }
      ]
    },
    {
      "cell_type": "code",
      "metadata": {
        "id": "Kqe_banAhb02",
        "colab": {
          "base_uri": "https://localhost:8080/",
          "height": 560
        },
        "outputId": "d7f17bb2-18a6-46fe-d0ae-5f7f889ebf48"
      },
      "source": [
        "print(\"\\n Decision Tree Classifier\")\n",
        "Decision_Tree(X_train, X_test, y_train, y_test)"
      ],
      "execution_count": 76,
      "outputs": [
        {
          "output_type": "stream",
          "name": "stdout",
          "text": [
            "\n",
            " Decision Tree Classifier\n",
            "training accuracy\n",
            "1.0\n",
            "Testing accuracy\n",
            "0.5816326530612245\n",
            "              precision    recall  f1-score   support\n",
            "\n",
            "       Sober       0.21      0.24      0.23        25\n",
            "       Drunk       0.73      0.70      0.71        73\n",
            "\n",
            "    accuracy                           0.58        98\n",
            "   macro avg       0.47      0.47      0.47        98\n",
            "weighted avg       0.60      0.58      0.59        98\n",
            "\n",
            "ROC-AUC: 0.4693\n"
          ]
        },
        {
          "output_type": "display_data",
          "data": {
            "image/png": "[encoded data removed]",
            "text/plain": [
              "<Figure size 432x288 with 2 Axes>"
            ]
          },
          "metadata": {
            "needs_background": "light"
          }
        }
      ]
    },
    {
      "cell_type": "code",
      "metadata": {
        "id": "CAIdBlFZhcK8"
      },
      "source": [
        ""
      ],
      "execution_count": null,
      "outputs": []
    }
  ]
}