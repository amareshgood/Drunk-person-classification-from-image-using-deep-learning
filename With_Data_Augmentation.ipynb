{
  "nbformat": 4,
  "nbformat_minor": 0,
  "metadata": {
    "colab": {
      "name": "version2.ipynb",
      "provenance": [],
      "collapsed_sections": []
    },
    "kernelspec": {
      "display_name": "Python 3",
      "name": "python3"
    },
    "language_info": {
      "name": "python"
    }
  },
  "cells": [
    {
      "cell_type": "code",
      "metadata": {
        "colab": {
          "base_uri": "https://localhost:8080/"
        },
        "id": "G4kAY73CZIdf",
        "outputId": "893b50df-ce61-4885-d47a-0b0e56d8dda0"
      },
      "source": [
        "#Google Drive\n",
        "\n",
        "# Load the Drive helper and mount\n",
        "from google.colab import drive\n",
        "\n",
        "# This will prompt for authorization.  \n",
        "drive.mount('/content/drive')"
      ],
      "execution_count": 2,
      "outputs": [
        {
          "output_type": "stream",
          "name": "stdout",
          "text": [
            "Mounted at /content/drive\n"
          ]
        }
      ]
    },
    {
      "cell_type": "code",
      "metadata": {
        "id": "5RGBUk0JQ_oH"
      },
      "source": [
        "import os, cv2, random\n",
        "import numpy as np\n",
        "from matplotlib import pyplot as plt\n",
        "from matplotlib.pyplot import imshow\n",
        "from keras.preprocessing import image\n",
        "\n",
        "from numpy import expand_dims\n",
        "from keras.preprocessing.image import load_img\n",
        "from keras.preprocessing.image import img_to_array\n",
        "from keras.preprocessing.image import ImageDataGenerator\n",
        "from matplotlib import pyplot\n",
        "from sklearn import preprocessing\n",
        "from tensorflow.keras.applications.resnet50 import preprocess_input\n"
      ],
      "execution_count": 51,
      "outputs": []
    },
    {
      "cell_type": "markdown",
      "metadata": {
        "id": "zB8Gu7aoGlOq"
      },
      "source": [
        "Directory changed to specific folder which contains the dataset"
      ]
    },
    {
      "cell_type": "code",
      "metadata": {
        "colab": {
          "base_uri": "https://localhost:8080/"
        },
        "id": "A_G1jjv4o0qP",
        "outputId": "c935ebee-411a-4ee5-8591-9673eb0c6298"
      },
      "source": [
        "os.chdir('/content/drive/MyDrive/Drunk Sober Classify/DeepLearning_Assignment_Drunk_Sober_Classify/')\n",
        "!ls"
      ],
      "execution_count": 52,
      "outputs": [
        {
          "output_type": "stream",
          "name": "stdout",
          "text": [
            " 01_petros    13_manos\t        25_nausika    37_vassilisA\n",
            " 02_giorgos   14_lampros        26_tsag       38_christos\n",
            " 03_vasil     15_konstantinos   27_theox      39_anna\n",
            " 04_elpis     16_nikos\t        28_frag       40_spiliop\n",
            " 05_artemis   17_kwstas         29_lia\t      41_kalp\n",
            " 06_tris      18_dionisis       30_patty     'Problem Statement.docx'\n",
            " 07_thanos    19_pasxalis       31_antonis    readme.docx\n",
            " 08_tzon      20_nefeli         32_vicky      sample_data_read.ipynb\n",
            " 09_giorg     21_ilias\t        33_iliasv     VIMAL.doc\n",
            " 10_konst     22_dimitris       34_alkis\n",
            " 11_takis     23_vassiliskar    35_thanasis\n",
            " 12_loukas    24_rig\t        36_krod\n"
          ]
        }
      ]
    },
    {
      "cell_type": "code",
      "metadata": {
        "colab": {
          "base_uri": "https://localhost:8080/"
        },
        "id": "VZK1OhTdZuxm",
        "outputId": "4a8e5b22-26a3-4a4c-cae2-8b6d259279de"
      },
      "source": [
        "#list folders are loaded into folders variable\n",
        "folders = [f for f in os.listdir(os.getcwd()) if os.path.isdir(f)]\n",
        "print('no. of folders:', len(folders))"
      ],
      "execution_count": 53,
      "outputs": [
        {
          "output_type": "stream",
          "name": "stdout",
          "text": [
            "no. of folders: 41\n"
          ]
        }
      ]
    },
    {
      "cell_type": "markdown",
      "metadata": {
        "id": "2pyrHRdUHL5b"
      },
      "source": [
        "**VGG16 models are loaded for feature extraction**"
      ]
    },
    {
      "cell_type": "code",
      "metadata": {
        "colab": {
          "base_uri": "https://localhost:8080/"
        },
        "id": "hLBbly6WQ0zi",
        "outputId": "2663b741-7781-4afe-e8b3-a53f37cf1534"
      },
      "source": [
        "from keras.applications.vgg16 import VGG16\n",
        "from keras.models import Model, Sequential, load_model\n",
        "from keras.layers import Dense, Conv2D, AveragePooling2D, MaxPooling2D, Flatten, Reshape, Dropout\n",
        "from keras.applications.vgg16 import preprocess_input\n",
        "vgg_model = VGG16(weights='imagenet', include_top=True)\n",
        "for layer in vgg_model.layers[:]:\n",
        "  layer.trainable = False\n",
        "#add fully connected layer which have 1024 neuron to vgg16 model\n",
        "output = vgg_model.get_layer('fc2').output\n",
        "output = Flatten (name='new_flatten')(output)\n",
        "output = Dense(units = 1024, activation='relu',name='new_fc')(output)\n",
        "#output = Dense(units=2, activation ='softmax')(output)\n",
        "vgg_model =Model(vgg_model.input, output)\n",
        "\n",
        "#make last 4 layers trainable if lastFourTrainabel ==True\n",
        "#if lastFourTrainabel ==True\n",
        "vgg_model.get_layer('block5_conv3').trainable = True\n",
        "vgg_model.get_layer('fc1').trainable = True\n",
        "vgg_model.get_layer('fc2').trainable = True\n",
        "vgg_model.get_layer('new_fc').trainable = True\n",
        "\n",
        "vgg_model.compile(optimizer = 'adam', loss='binary_crossentropy',metrics=['accuracy'])\n",
        "vgg_model.summary()\n"
      ],
      "execution_count": 55,
      "outputs": [
        {
          "output_type": "stream",
          "name": "stdout",
          "text": [
            "Downloading data from https://storage.googleapis.com/tensorflow/keras-applications/vgg16/vgg16_weights_tf_dim_ordering_tf_kernels.h5\n",
            "553467904/553467096 [==============================] - 15s 0us/step\n",
            "553476096/553467096 [==============================] - 15s 0us/step\n",
            "Model: \"model\"\n",
            "_________________________________________________________________\n",
            "Layer (type)                 Output Shape              Param #   \n",
            "=================================================================\n",
            "input_1 (InputLayer)         [(None, 224, 224, 3)]     0         \n",
            "_________________________________________________________________\n",
            "block1_conv1 (Conv2D)        (None, 224, 224, 64)      1792      \n",
            "_________________________________________________________________\n",
            "block1_conv2 (Conv2D)        (None, 224, 224, 64)      36928     \n",
            "_________________________________________________________________\n",
            "block1_pool (MaxPooling2D)   (None, 112, 112, 64)      0         \n",
            "_________________________________________________________________\n",
            "block2_conv1 (Conv2D)        (None, 112, 112, 128)     73856     \n",
            "_________________________________________________________________\n",
            "block2_conv2 (Conv2D)        (None, 112, 112, 128)     147584    \n",
            "_________________________________________________________________\n",
            "block2_pool (MaxPooling2D)   (None, 56, 56, 128)       0         \n",
            "_________________________________________________________________\n",
            "block3_conv1 (Conv2D)        (None, 56, 56, 256)       295168    \n",
            "_________________________________________________________________\n",
            "block3_conv2 (Conv2D)        (None, 56, 56, 256)       590080    \n",
            "_________________________________________________________________\n",
            "block3_conv3 (Conv2D)        (None, 56, 56, 256)       590080    \n",
            "_________________________________________________________________\n",
            "block3_pool (MaxPooling2D)   (None, 28, 28, 256)       0         \n",
            "_________________________________________________________________\n",
            "block4_conv1 (Conv2D)        (None, 28, 28, 512)       1180160   \n",
            "_________________________________________________________________\n",
            "block4_conv2 (Conv2D)        (None, 28, 28, 512)       2359808   \n",
            "_________________________________________________________________\n",
            "block4_conv3 (Conv2D)        (None, 28, 28, 512)       2359808   \n",
            "_________________________________________________________________\n",
            "block4_pool (MaxPooling2D)   (None, 14, 14, 512)       0         \n",
            "_________________________________________________________________\n",
            "block5_conv1 (Conv2D)        (None, 14, 14, 512)       2359808   \n",
            "_________________________________________________________________\n",
            "block5_conv2 (Conv2D)        (None, 14, 14, 512)       2359808   \n",
            "_________________________________________________________________\n",
            "block5_conv3 (Conv2D)        (None, 14, 14, 512)       2359808   \n",
            "_________________________________________________________________\n",
            "block5_pool (MaxPooling2D)   (None, 7, 7, 512)         0         \n",
            "_________________________________________________________________\n",
            "flatten (Flatten)            (None, 25088)             0         \n",
            "_________________________________________________________________\n",
            "fc1 (Dense)                  (None, 4096)              102764544 \n",
            "_________________________________________________________________\n",
            "fc2 (Dense)                  (None, 4096)              16781312  \n",
            "_________________________________________________________________\n",
            "new_flatten (Flatten)        (None, 4096)              0         \n",
            "_________________________________________________________________\n",
            "new_fc (Dense)               (None, 1024)              4195328   \n",
            "=================================================================\n",
            "Total params: 138,455,872\n",
            "Trainable params: 126,100,992\n",
            "Non-trainable params: 12,354,880\n",
            "_________________________________________________________________\n"
          ]
        }
      ]
    },
    {
      "cell_type": "markdown",
      "metadata": {
        "id": "jqxxm3CSHicB"
      },
      "source": [
        "**ResNet50 model is loaded for feature extraction**"
      ]
    },
    {
      "cell_type": "code",
      "metadata": {
        "colab": {
          "base_uri": "https://localhost:8080/"
        },
        "id": "VfQ4Y7b6QwP0",
        "outputId": "38a94c69-0f46-4aec-82cd-6ada1be6f446"
      },
      "source": [
        "from tensorflow.keras.applications import ResNet50\n",
        "from tensorflow.keras.applications.resnet50 import preprocess_input\n",
        "from keras.layers import Dense, Conv2D, GlobalAveragePooling2D, MaxPooling2D, Flatten, Reshape, Dropout\n",
        "resnet_model = ResNet50(weights=\"imagenet\", include_top=True)\n",
        "#le = None\n",
        "for layer in resnet_model.layers[:]:\n",
        "  layer.trainable = False\n",
        "#add fully connected layer which have 1024 neuron to resnet model\n",
        "output = resnet_model.get_layer('avg_pool').output\n",
        "#output = GlobalAveragePooling2D()(output)\n",
        "output = Flatten (name='new_flatten')(output)\n",
        "output = Dense(units = 1024, activation='relu',name='new_fc')(output)\n",
        "#output = Dense(units=2, activation ='softmax')(output)\n",
        "resnet_model =Model(resnet_model.input, output)\n",
        "\n",
        "#make last 4 layers trainable if lastFourTrainabel ==True\n",
        "#if lastFourTrainabel ==True\n",
        "resnet_model.get_layer('conv5_block3_2_bn').trainable = True\n",
        "resnet_model.get_layer('conv5_block3_3_conv').trainable = True\n",
        "resnet_model.get_layer('conv5_block3_3_bn').trainable = True\n",
        "resnet_model.get_layer('new_fc').trainable = True\n",
        "\n",
        "resnet_model.compile(optimizer = 'adam', loss='binary_crossentropy',metrics=['accuracy'])\n",
        "resnet_model.summary()\n",
        "\n"
      ],
      "execution_count": 56,
      "outputs": [
        {
          "output_type": "stream",
          "name": "stdout",
          "text": [
            "Downloading data from https://storage.googleapis.com/tensorflow/keras-applications/resnet/resnet50_weights_tf_dim_ordering_tf_kernels.h5\n",
            "102973440/102967424 [==============================] - 1s 0us/step\n",
            "102981632/102967424 [==============================] - 1s 0us/step\n",
            "Model: \"model_1\"\n",
            "__________________________________________________________________________________________________\n",
            "Layer (type)                    Output Shape         Param #     Connected to                     \n",
            "==================================================================================================\n",
            "input_2 (InputLayer)            [(None, 224, 224, 3) 0                                            \n",
            "__________________________________________________________________________________________________\n",
            "conv1_pad (ZeroPadding2D)       (None, 230, 230, 3)  0           input_2[0][0]                    \n",
            "__________________________________________________________________________________________________\n",
            "conv1_conv (Conv2D)             (None, 112, 112, 64) 9472        conv1_pad[0][0]                  \n",
            "__________________________________________________________________________________________________\n",
            "conv1_bn (BatchNormalization)   (None, 112, 112, 64) 256         conv1_conv[0][0]                 \n",
            "__________________________________________________________________________________________________\n",
            "conv1_relu (Activation)         (None, 112, 112, 64) 0           conv1_bn[0][0]                   \n",
            "__________________________________________________________________________________________________\n",
            "pool1_pad (ZeroPadding2D)       (None, 114, 114, 64) 0           conv1_relu[0][0]                 \n",
            "__________________________________________________________________________________________________\n",
            "pool1_pool (MaxPooling2D)       (None, 56, 56, 64)   0           pool1_pad[0][0]                  \n",
            "__________________________________________________________________________________________________\n",
            "conv2_block1_1_conv (Conv2D)    (None, 56, 56, 64)   4160        pool1_pool[0][0]                 \n",
            "__________________________________________________________________________________________________\n",
            "conv2_block1_1_bn (BatchNormali (None, 56, 56, 64)   256         conv2_block1_1_conv[0][0]        \n",
            "__________________________________________________________________________________________________\n",
            "conv2_block1_1_relu (Activation (None, 56, 56, 64)   0           conv2_block1_1_bn[0][0]          \n",
            "__________________________________________________________________________________________________\n",
            "conv2_block1_2_conv (Conv2D)    (None, 56, 56, 64)   36928       conv2_block1_1_relu[0][0]        \n",
            "__________________________________________________________________________________________________\n",
            "conv2_block1_2_bn (BatchNormali (None, 56, 56, 64)   256         conv2_block1_2_conv[0][0]        \n",
            "__________________________________________________________________________________________________\n",
            "conv2_block1_2_relu (Activation (None, 56, 56, 64)   0           conv2_block1_2_bn[0][0]          \n",
            "__________________________________________________________________________________________________\n",
            "conv2_block1_0_conv (Conv2D)    (None, 56, 56, 256)  16640       pool1_pool[0][0]                 \n",
            "__________________________________________________________________________________________________\n",
            "conv2_block1_3_conv (Conv2D)    (None, 56, 56, 256)  16640       conv2_block1_2_relu[0][0]        \n",
            "__________________________________________________________________________________________________\n",
            "conv2_block1_0_bn (BatchNormali (None, 56, 56, 256)  1024        conv2_block1_0_conv[0][0]        \n",
            "__________________________________________________________________________________________________\n",
            "conv2_block1_3_bn (BatchNormali (None, 56, 56, 256)  1024        conv2_block1_3_conv[0][0]        \n",
            "__________________________________________________________________________________________________\n",
            "conv2_block1_add (Add)          (None, 56, 56, 256)  0           conv2_block1_0_bn[0][0]          \n",
            "                                                                 conv2_block1_3_bn[0][0]          \n",
            "__________________________________________________________________________________________________\n",
            "conv2_block1_out (Activation)   (None, 56, 56, 256)  0           conv2_block1_add[0][0]           \n",
            "__________________________________________________________________________________________________\n",
            "conv2_block2_1_conv (Conv2D)    (None, 56, 56, 64)   16448       conv2_block1_out[0][0]           \n",
            "__________________________________________________________________________________________________\n",
            "conv2_block2_1_bn (BatchNormali (None, 56, 56, 64)   256         conv2_block2_1_conv[0][0]        \n",
            "__________________________________________________________________________________________________\n",
            "conv2_block2_1_relu (Activation (None, 56, 56, 64)   0           conv2_block2_1_bn[0][0]          \n",
            "__________________________________________________________________________________________________\n",
            "conv2_block2_2_conv (Conv2D)    (None, 56, 56, 64)   36928       conv2_block2_1_relu[0][0]        \n",
            "__________________________________________________________________________________________________\n",
            "conv2_block2_2_bn (BatchNormali (None, 56, 56, 64)   256         conv2_block2_2_conv[0][0]        \n",
            "__________________________________________________________________________________________________\n",
            "conv2_block2_2_relu (Activation (None, 56, 56, 64)   0           conv2_block2_2_bn[0][0]          \n",
            "__________________________________________________________________________________________________\n",
            "conv2_block2_3_conv (Conv2D)    (None, 56, 56, 256)  16640       conv2_block2_2_relu[0][0]        \n",
            "__________________________________________________________________________________________________\n",
            "conv2_block2_3_bn (BatchNormali (None, 56, 56, 256)  1024        conv2_block2_3_conv[0][0]        \n",
            "__________________________________________________________________________________________________\n",
            "conv2_block2_add (Add)          (None, 56, 56, 256)  0           conv2_block1_out[0][0]           \n",
            "                                                                 conv2_block2_3_bn[0][0]          \n",
            "__________________________________________________________________________________________________\n",
            "conv2_block2_out (Activation)   (None, 56, 56, 256)  0           conv2_block2_add[0][0]           \n",
            "__________________________________________________________________________________________________\n",
            "conv2_block3_1_conv (Conv2D)    (None, 56, 56, 64)   16448       conv2_block2_out[0][0]           \n",
            "__________________________________________________________________________________________________\n",
            "conv2_block3_1_bn (BatchNormali (None, 56, 56, 64)   256         conv2_block3_1_conv[0][0]        \n",
            "__________________________________________________________________________________________________\n",
            "conv2_block3_1_relu (Activation (None, 56, 56, 64)   0           conv2_block3_1_bn[0][0]          \n",
            "__________________________________________________________________________________________________\n",
            "conv2_block3_2_conv (Conv2D)    (None, 56, 56, 64)   36928       conv2_block3_1_relu[0][0]        \n",
            "__________________________________________________________________________________________________\n",
            "conv2_block3_2_bn (BatchNormali (None, 56, 56, 64)   256         conv2_block3_2_conv[0][0]        \n",
            "__________________________________________________________________________________________________\n",
            "conv2_block3_2_relu (Activation (None, 56, 56, 64)   0           conv2_block3_2_bn[0][0]          \n",
            "__________________________________________________________________________________________________\n",
            "conv2_block3_3_conv (Conv2D)    (None, 56, 56, 256)  16640       conv2_block3_2_relu[0][0]        \n",
            "__________________________________________________________________________________________________\n",
            "conv2_block3_3_bn (BatchNormali (None, 56, 56, 256)  1024        conv2_block3_3_conv[0][0]        \n",
            "__________________________________________________________________________________________________\n",
            "conv2_block3_add (Add)          (None, 56, 56, 256)  0           conv2_block2_out[0][0]           \n",
            "                                                                 conv2_block3_3_bn[0][0]          \n",
            "__________________________________________________________________________________________________\n",
            "conv2_block3_out (Activation)   (None, 56, 56, 256)  0           conv2_block3_add[0][0]           \n",
            "__________________________________________________________________________________________________\n",
            "conv3_block1_1_conv (Conv2D)    (None, 28, 28, 128)  32896       conv2_block3_out[0][0]           \n",
            "__________________________________________________________________________________________________\n",
            "conv3_block1_1_bn (BatchNormali (None, 28, 28, 128)  512         conv3_block1_1_conv[0][0]        \n",
            "__________________________________________________________________________________________________\n",
            "conv3_block1_1_relu (Activation (None, 28, 28, 128)  0           conv3_block1_1_bn[0][0]          \n",
            "__________________________________________________________________________________________________\n",
            "conv3_block1_2_conv (Conv2D)    (None, 28, 28, 128)  147584      conv3_block1_1_relu[0][0]        \n",
            "__________________________________________________________________________________________________\n",
            "conv3_block1_2_bn (BatchNormali (None, 28, 28, 128)  512         conv3_block1_2_conv[0][0]        \n",
            "__________________________________________________________________________________________________\n",
            "conv3_block1_2_relu (Activation (None, 28, 28, 128)  0           conv3_block1_2_bn[0][0]          \n",
            "__________________________________________________________________________________________________\n",
            "conv3_block1_0_conv (Conv2D)    (None, 28, 28, 512)  131584      conv2_block3_out[0][0]           \n",
            "__________________________________________________________________________________________________\n",
            "conv3_block1_3_conv (Conv2D)    (None, 28, 28, 512)  66048       conv3_block1_2_relu[0][0]        \n",
            "__________________________________________________________________________________________________\n",
            "conv3_block1_0_bn (BatchNormali (None, 28, 28, 512)  2048        conv3_block1_0_conv[0][0]        \n",
            "__________________________________________________________________________________________________\n",
            "conv3_block1_3_bn (BatchNormali (None, 28, 28, 512)  2048        conv3_block1_3_conv[0][0]        \n",
            "__________________________________________________________________________________________________\n",
            "conv3_block1_add (Add)          (None, 28, 28, 512)  0           conv3_block1_0_bn[0][0]          \n",
            "                                                                 conv3_block1_3_bn[0][0]          \n",
            "__________________________________________________________________________________________________\n",
            "conv3_block1_out (Activation)   (None, 28, 28, 512)  0           conv3_block1_add[0][0]           \n",
            "__________________________________________________________________________________________________\n",
            "conv3_block2_1_conv (Conv2D)    (None, 28, 28, 128)  65664       conv3_block1_out[0][0]           \n",
            "__________________________________________________________________________________________________\n",
            "conv3_block2_1_bn (BatchNormali (None, 28, 28, 128)  512         conv3_block2_1_conv[0][0]        \n",
            "__________________________________________________________________________________________________\n",
            "conv3_block2_1_relu (Activation (None, 28, 28, 128)  0           conv3_block2_1_bn[0][0]          \n",
            "__________________________________________________________________________________________________\n",
            "conv3_block2_2_conv (Conv2D)    (None, 28, 28, 128)  147584      conv3_block2_1_relu[0][0]        \n",
            "__________________________________________________________________________________________________\n",
            "conv3_block2_2_bn (BatchNormali (None, 28, 28, 128)  512         conv3_block2_2_conv[0][0]        \n",
            "__________________________________________________________________________________________________\n",
            "conv3_block2_2_relu (Activation (None, 28, 28, 128)  0           conv3_block2_2_bn[0][0]          \n",
            "__________________________________________________________________________________________________\n",
            "conv3_block2_3_conv (Conv2D)    (None, 28, 28, 512)  66048       conv3_block2_2_relu[0][0]        \n",
            "__________________________________________________________________________________________________\n",
            "conv3_block2_3_bn (BatchNormali (None, 28, 28, 512)  2048        conv3_block2_3_conv[0][0]        \n",
            "__________________________________________________________________________________________________\n",
            "conv3_block2_add (Add)          (None, 28, 28, 512)  0           conv3_block1_out[0][0]           \n",
            "                                                                 conv3_block2_3_bn[0][0]          \n",
            "__________________________________________________________________________________________________\n",
            "conv3_block2_out (Activation)   (None, 28, 28, 512)  0           conv3_block2_add[0][0]           \n",
            "__________________________________________________________________________________________________\n",
            "conv3_block3_1_conv (Conv2D)    (None, 28, 28, 128)  65664       conv3_block2_out[0][0]           \n",
            "__________________________________________________________________________________________________\n",
            "conv3_block3_1_bn (BatchNormali (None, 28, 28, 128)  512         conv3_block3_1_conv[0][0]        \n",
            "__________________________________________________________________________________________________\n",
            "conv3_block3_1_relu (Activation (None, 28, 28, 128)  0           conv3_block3_1_bn[0][0]          \n",
            "__________________________________________________________________________________________________\n",
            "conv3_block3_2_conv (Conv2D)    (None, 28, 28, 128)  147584      conv3_block3_1_relu[0][0]        \n",
            "__________________________________________________________________________________________________\n",
            "conv3_block3_2_bn (BatchNormali (None, 28, 28, 128)  512         conv3_block3_2_conv[0][0]        \n",
            "__________________________________________________________________________________________________\n",
            "conv3_block3_2_relu (Activation (None, 28, 28, 128)  0           conv3_block3_2_bn[0][0]          \n",
            "__________________________________________________________________________________________________\n",
            "conv3_block3_3_conv (Conv2D)    (None, 28, 28, 512)  66048       conv3_block3_2_relu[0][0]        \n",
            "__________________________________________________________________________________________________\n",
            "conv3_block3_3_bn (BatchNormali (None, 28, 28, 512)  2048        conv3_block3_3_conv[0][0]        \n",
            "__________________________________________________________________________________________________\n",
            "conv3_block3_add (Add)          (None, 28, 28, 512)  0           conv3_block2_out[0][0]           \n",
            "                                                                 conv3_block3_3_bn[0][0]          \n",
            "__________________________________________________________________________________________________\n",
            "conv3_block3_out (Activation)   (None, 28, 28, 512)  0           conv3_block3_add[0][0]           \n",
            "__________________________________________________________________________________________________\n",
            "conv3_block4_1_conv (Conv2D)    (None, 28, 28, 128)  65664       conv3_block3_out[0][0]           \n",
            "__________________________________________________________________________________________________\n",
            "conv3_block4_1_bn (BatchNormali (None, 28, 28, 128)  512         conv3_block4_1_conv[0][0]        \n",
            "__________________________________________________________________________________________________\n",
            "conv3_block4_1_relu (Activation (None, 28, 28, 128)  0           conv3_block4_1_bn[0][0]          \n",
            "__________________________________________________________________________________________________\n",
            "conv3_block4_2_conv (Conv2D)    (None, 28, 28, 128)  147584      conv3_block4_1_relu[0][0]        \n",
            "__________________________________________________________________________________________________\n",
            "conv3_block4_2_bn (BatchNormali (None, 28, 28, 128)  512         conv3_block4_2_conv[0][0]        \n",
            "__________________________________________________________________________________________________\n",
            "conv3_block4_2_relu (Activation (None, 28, 28, 128)  0           conv3_block4_2_bn[0][0]          \n",
            "__________________________________________________________________________________________________\n",
            "conv3_block4_3_conv (Conv2D)    (None, 28, 28, 512)  66048       conv3_block4_2_relu[0][0]        \n",
            "__________________________________________________________________________________________________\n",
            "conv3_block4_3_bn (BatchNormali (None, 28, 28, 512)  2048        conv3_block4_3_conv[0][0]        \n",
            "__________________________________________________________________________________________________\n",
            "conv3_block4_add (Add)          (None, 28, 28, 512)  0           conv3_block3_out[0][0]           \n",
            "                                                                 conv3_block4_3_bn[0][0]          \n",
            "__________________________________________________________________________________________________\n",
            "conv3_block4_out (Activation)   (None, 28, 28, 512)  0           conv3_block4_add[0][0]           \n",
            "__________________________________________________________________________________________________\n",
            "conv4_block1_1_conv (Conv2D)    (None, 14, 14, 256)  131328      conv3_block4_out[0][0]           \n",
            "__________________________________________________________________________________________________\n",
            "conv4_block1_1_bn (BatchNormali (None, 14, 14, 256)  1024        conv4_block1_1_conv[0][0]        \n",
            "__________________________________________________________________________________________________\n",
            "conv4_block1_1_relu (Activation (None, 14, 14, 256)  0           conv4_block1_1_bn[0][0]          \n",
            "__________________________________________________________________________________________________\n",
            "conv4_block1_2_conv (Conv2D)    (None, 14, 14, 256)  590080      conv4_block1_1_relu[0][0]        \n",
            "__________________________________________________________________________________________________\n",
            "conv4_block1_2_bn (BatchNormali (None, 14, 14, 256)  1024        conv4_block1_2_conv[0][0]        \n",
            "__________________________________________________________________________________________________\n",
            "conv4_block1_2_relu (Activation (None, 14, 14, 256)  0           conv4_block1_2_bn[0][0]          \n",
            "__________________________________________________________________________________________________\n",
            "conv4_block1_0_conv (Conv2D)    (None, 14, 14, 1024) 525312      conv3_block4_out[0][0]           \n",
            "__________________________________________________________________________________________________\n",
            "conv4_block1_3_conv (Conv2D)    (None, 14, 14, 1024) 263168      conv4_block1_2_relu[0][0]        \n",
            "__________________________________________________________________________________________________\n",
            "conv4_block1_0_bn (BatchNormali (None, 14, 14, 1024) 4096        conv4_block1_0_conv[0][0]        \n",
            "__________________________________________________________________________________________________\n",
            "conv4_block1_3_bn (BatchNormali (None, 14, 14, 1024) 4096        conv4_block1_3_conv[0][0]        \n",
            "__________________________________________________________________________________________________\n",
            "conv4_block1_add (Add)          (None, 14, 14, 1024) 0           conv4_block1_0_bn[0][0]          \n",
            "                                                                 conv4_block1_3_bn[0][0]          \n",
            "__________________________________________________________________________________________________\n",
            "conv4_block1_out (Activation)   (None, 14, 14, 1024) 0           conv4_block1_add[0][0]           \n",
            "__________________________________________________________________________________________________\n",
            "conv4_block2_1_conv (Conv2D)    (None, 14, 14, 256)  262400      conv4_block1_out[0][0]           \n",
            "__________________________________________________________________________________________________\n",
            "conv4_block2_1_bn (BatchNormali (None, 14, 14, 256)  1024        conv4_block2_1_conv[0][0]        \n",
            "__________________________________________________________________________________________________\n",
            "conv4_block2_1_relu (Activation (None, 14, 14, 256)  0           conv4_block2_1_bn[0][0]          \n",
            "__________________________________________________________________________________________________\n",
            "conv4_block2_2_conv (Conv2D)    (None, 14, 14, 256)  590080      conv4_block2_1_relu[0][0]        \n",
            "__________________________________________________________________________________________________\n",
            "conv4_block2_2_bn (BatchNormali (None, 14, 14, 256)  1024        conv4_block2_2_conv[0][0]        \n",
            "__________________________________________________________________________________________________\n",
            "conv4_block2_2_relu (Activation (None, 14, 14, 256)  0           conv4_block2_2_bn[0][0]          \n",
            "__________________________________________________________________________________________________\n",
            "conv4_block2_3_conv (Conv2D)    (None, 14, 14, 1024) 263168      conv4_block2_2_relu[0][0]        \n",
            "__________________________________________________________________________________________________\n",
            "conv4_block2_3_bn (BatchNormali (None, 14, 14, 1024) 4096        conv4_block2_3_conv[0][0]        \n",
            "__________________________________________________________________________________________________\n",
            "conv4_block2_add (Add)          (None, 14, 14, 1024) 0           conv4_block1_out[0][0]           \n",
            "                                                                 conv4_block2_3_bn[0][0]          \n",
            "__________________________________________________________________________________________________\n",
            "conv4_block2_out (Activation)   (None, 14, 14, 1024) 0           conv4_block2_add[0][0]           \n",
            "__________________________________________________________________________________________________\n",
            "conv4_block3_1_conv (Conv2D)    (None, 14, 14, 256)  262400      conv4_block2_out[0][0]           \n",
            "__________________________________________________________________________________________________\n",
            "conv4_block3_1_bn (BatchNormali (None, 14, 14, 256)  1024        conv4_block3_1_conv[0][0]        \n",
            "__________________________________________________________________________________________________\n",
            "conv4_block3_1_relu (Activation (None, 14, 14, 256)  0           conv4_block3_1_bn[0][0]          \n",
            "__________________________________________________________________________________________________\n",
            "conv4_block3_2_conv (Conv2D)    (None, 14, 14, 256)  590080      conv4_block3_1_relu[0][0]        \n",
            "__________________________________________________________________________________________________\n",
            "conv4_block3_2_bn (BatchNormali (None, 14, 14, 256)  1024        conv4_block3_2_conv[0][0]        \n",
            "__________________________________________________________________________________________________\n",
            "conv4_block3_2_relu (Activation (None, 14, 14, 256)  0           conv4_block3_2_bn[0][0]          \n",
            "__________________________________________________________________________________________________\n",
            "conv4_block3_3_conv (Conv2D)    (None, 14, 14, 1024) 263168      conv4_block3_2_relu[0][0]        \n",
            "__________________________________________________________________________________________________\n",
            "conv4_block3_3_bn (BatchNormali (None, 14, 14, 1024) 4096        conv4_block3_3_conv[0][0]        \n",
            "__________________________________________________________________________________________________\n",
            "conv4_block3_add (Add)          (None, 14, 14, 1024) 0           conv4_block2_out[0][0]           \n",
            "                                                                 conv4_block3_3_bn[0][0]          \n",
            "__________________________________________________________________________________________________\n",
            "conv4_block3_out (Activation)   (None, 14, 14, 1024) 0           conv4_block3_add[0][0]           \n",
            "__________________________________________________________________________________________________\n",
            "conv4_block4_1_conv (Conv2D)    (None, 14, 14, 256)  262400      conv4_block3_out[0][0]           \n",
            "__________________________________________________________________________________________________\n",
            "conv4_block4_1_bn (BatchNormali (None, 14, 14, 256)  1024        conv4_block4_1_conv[0][0]        \n",
            "__________________________________________________________________________________________________\n",
            "conv4_block4_1_relu (Activation (None, 14, 14, 256)  0           conv4_block4_1_bn[0][0]          \n",
            "__________________________________________________________________________________________________\n",
            "conv4_block4_2_conv (Conv2D)    (None, 14, 14, 256)  590080      conv4_block4_1_relu[0][0]        \n",
            "__________________________________________________________________________________________________\n",
            "conv4_block4_2_bn (BatchNormali (None, 14, 14, 256)  1024        conv4_block4_2_conv[0][0]        \n",
            "__________________________________________________________________________________________________\n",
            "conv4_block4_2_relu (Activation (None, 14, 14, 256)  0           conv4_block4_2_bn[0][0]          \n",
            "__________________________________________________________________________________________________\n",
            "conv4_block4_3_conv (Conv2D)    (None, 14, 14, 1024) 263168      conv4_block4_2_relu[0][0]        \n",
            "__________________________________________________________________________________________________\n",
            "conv4_block4_3_bn (BatchNormali (None, 14, 14, 1024) 4096        conv4_block4_3_conv[0][0]        \n",
            "__________________________________________________________________________________________________\n",
            "conv4_block4_add (Add)          (None, 14, 14, 1024) 0           conv4_block3_out[0][0]           \n",
            "                                                                 conv4_block4_3_bn[0][0]          \n",
            "__________________________________________________________________________________________________\n",
            "conv4_block4_out (Activation)   (None, 14, 14, 1024) 0           conv4_block4_add[0][0]           \n",
            "__________________________________________________________________________________________________\n",
            "conv4_block5_1_conv (Conv2D)    (None, 14, 14, 256)  262400      conv4_block4_out[0][0]           \n",
            "__________________________________________________________________________________________________\n",
            "conv4_block5_1_bn (BatchNormali (None, 14, 14, 256)  1024        conv4_block5_1_conv[0][0]        \n",
            "__________________________________________________________________________________________________\n",
            "conv4_block5_1_relu (Activation (None, 14, 14, 256)  0           conv4_block5_1_bn[0][0]          \n",
            "__________________________________________________________________________________________________\n",
            "conv4_block5_2_conv (Conv2D)    (None, 14, 14, 256)  590080      conv4_block5_1_relu[0][0]        \n",
            "__________________________________________________________________________________________________\n",
            "conv4_block5_2_bn (BatchNormali (None, 14, 14, 256)  1024        conv4_block5_2_conv[0][0]        \n",
            "__________________________________________________________________________________________________\n",
            "conv4_block5_2_relu (Activation (None, 14, 14, 256)  0           conv4_block5_2_bn[0][0]          \n",
            "__________________________________________________________________________________________________\n",
            "conv4_block5_3_conv (Conv2D)    (None, 14, 14, 1024) 263168      conv4_block5_2_relu[0][0]        \n",
            "__________________________________________________________________________________________________\n",
            "conv4_block5_3_bn (BatchNormali (None, 14, 14, 1024) 4096        conv4_block5_3_conv[0][0]        \n",
            "__________________________________________________________________________________________________\n",
            "conv4_block5_add (Add)          (None, 14, 14, 1024) 0           conv4_block4_out[0][0]           \n",
            "                                                                 conv4_block5_3_bn[0][0]          \n",
            "__________________________________________________________________________________________________\n",
            "conv4_block5_out (Activation)   (None, 14, 14, 1024) 0           conv4_block5_add[0][0]           \n",
            "__________________________________________________________________________________________________\n",
            "conv4_block6_1_conv (Conv2D)    (None, 14, 14, 256)  262400      conv4_block5_out[0][0]           \n",
            "__________________________________________________________________________________________________\n",
            "conv4_block6_1_bn (BatchNormali (None, 14, 14, 256)  1024        conv4_block6_1_conv[0][0]        \n",
            "__________________________________________________________________________________________________\n",
            "conv4_block6_1_relu (Activation (None, 14, 14, 256)  0           conv4_block6_1_bn[0][0]          \n",
            "__________________________________________________________________________________________________\n",
            "conv4_block6_2_conv (Conv2D)    (None, 14, 14, 256)  590080      conv4_block6_1_relu[0][0]        \n",
            "__________________________________________________________________________________________________\n",
            "conv4_block6_2_bn (BatchNormali (None, 14, 14, 256)  1024        conv4_block6_2_conv[0][0]        \n",
            "__________________________________________________________________________________________________\n",
            "conv4_block6_2_relu (Activation (None, 14, 14, 256)  0           conv4_block6_2_bn[0][0]          \n",
            "__________________________________________________________________________________________________\n",
            "conv4_block6_3_conv (Conv2D)    (None, 14, 14, 1024) 263168      conv4_block6_2_relu[0][0]        \n",
            "__________________________________________________________________________________________________\n",
            "conv4_block6_3_bn (BatchNormali (None, 14, 14, 1024) 4096        conv4_block6_3_conv[0][0]        \n",
            "__________________________________________________________________________________________________\n",
            "conv4_block6_add (Add)          (None, 14, 14, 1024) 0           conv4_block5_out[0][0]           \n",
            "                                                                 conv4_block6_3_bn[0][0]          \n",
            "__________________________________________________________________________________________________\n",
            "conv4_block6_out (Activation)   (None, 14, 14, 1024) 0           conv4_block6_add[0][0]           \n",
            "__________________________________________________________________________________________________\n",
            "conv5_block1_1_conv (Conv2D)    (None, 7, 7, 512)    524800      conv4_block6_out[0][0]           \n",
            "__________________________________________________________________________________________________\n",
            "conv5_block1_1_bn (BatchNormali (None, 7, 7, 512)    2048        conv5_block1_1_conv[0][0]        \n",
            "__________________________________________________________________________________________________\n",
            "conv5_block1_1_relu (Activation (None, 7, 7, 512)    0           conv5_block1_1_bn[0][0]          \n",
            "__________________________________________________________________________________________________\n",
            "conv5_block1_2_conv (Conv2D)    (None, 7, 7, 512)    2359808     conv5_block1_1_relu[0][0]        \n",
            "__________________________________________________________________________________________________\n",
            "conv5_block1_2_bn (BatchNormali (None, 7, 7, 512)    2048        conv5_block1_2_conv[0][0]        \n",
            "__________________________________________________________________________________________________\n",
            "conv5_block1_2_relu (Activation (None, 7, 7, 512)    0           conv5_block1_2_bn[0][0]          \n",
            "__________________________________________________________________________________________________\n",
            "conv5_block1_0_conv (Conv2D)    (None, 7, 7, 2048)   2099200     conv4_block6_out[0][0]           \n",
            "__________________________________________________________________________________________________\n",
            "conv5_block1_3_conv (Conv2D)    (None, 7, 7, 2048)   1050624     conv5_block1_2_relu[0][0]        \n",
            "__________________________________________________________________________________________________\n",
            "conv5_block1_0_bn (BatchNormali (None, 7, 7, 2048)   8192        conv5_block1_0_conv[0][0]        \n",
            "__________________________________________________________________________________________________\n",
            "conv5_block1_3_bn (BatchNormali (None, 7, 7, 2048)   8192        conv5_block1_3_conv[0][0]        \n",
            "__________________________________________________________________________________________________\n",
            "conv5_block1_add (Add)          (None, 7, 7, 2048)   0           conv5_block1_0_bn[0][0]          \n",
            "                                                                 conv5_block1_3_bn[0][0]          \n",
            "__________________________________________________________________________________________________\n",
            "conv5_block1_out (Activation)   (None, 7, 7, 2048)   0           conv5_block1_add[0][0]           \n",
            "__________________________________________________________________________________________________\n",
            "conv5_block2_1_conv (Conv2D)    (None, 7, 7, 512)    1049088     conv5_block1_out[0][0]           \n",
            "__________________________________________________________________________________________________\n",
            "conv5_block2_1_bn (BatchNormali (None, 7, 7, 512)    2048        conv5_block2_1_conv[0][0]        \n",
            "__________________________________________________________________________________________________\n",
            "conv5_block2_1_relu (Activation (None, 7, 7, 512)    0           conv5_block2_1_bn[0][0]          \n",
            "__________________________________________________________________________________________________\n",
            "conv5_block2_2_conv (Conv2D)    (None, 7, 7, 512)    2359808     conv5_block2_1_relu[0][0]        \n",
            "__________________________________________________________________________________________________\n",
            "conv5_block2_2_bn (BatchNormali (None, 7, 7, 512)    2048        conv5_block2_2_conv[0][0]        \n",
            "__________________________________________________________________________________________________\n",
            "conv5_block2_2_relu (Activation (None, 7, 7, 512)    0           conv5_block2_2_bn[0][0]          \n",
            "__________________________________________________________________________________________________\n",
            "conv5_block2_3_conv (Conv2D)    (None, 7, 7, 2048)   1050624     conv5_block2_2_relu[0][0]        \n",
            "__________________________________________________________________________________________________\n",
            "conv5_block2_3_bn (BatchNormali (None, 7, 7, 2048)   8192        conv5_block2_3_conv[0][0]        \n",
            "__________________________________________________________________________________________________\n",
            "conv5_block2_add (Add)          (None, 7, 7, 2048)   0           conv5_block1_out[0][0]           \n",
            "                                                                 conv5_block2_3_bn[0][0]          \n",
            "__________________________________________________________________________________________________\n",
            "conv5_block2_out (Activation)   (None, 7, 7, 2048)   0           conv5_block2_add[0][0]           \n",
            "__________________________________________________________________________________________________\n",
            "conv5_block3_1_conv (Conv2D)    (None, 7, 7, 512)    1049088     conv5_block2_out[0][0]           \n",
            "__________________________________________________________________________________________________\n",
            "conv5_block3_1_bn (BatchNormali (None, 7, 7, 512)    2048        conv5_block3_1_conv[0][0]        \n",
            "__________________________________________________________________________________________________\n",
            "conv5_block3_1_relu (Activation (None, 7, 7, 512)    0           conv5_block3_1_bn[0][0]          \n",
            "__________________________________________________________________________________________________\n",
            "conv5_block3_2_conv (Conv2D)    (None, 7, 7, 512)    2359808     conv5_block3_1_relu[0][0]        \n",
            "__________________________________________________________________________________________________\n",
            "conv5_block3_2_bn (BatchNormali (None, 7, 7, 512)    2048        conv5_block3_2_conv[0][0]        \n",
            "__________________________________________________________________________________________________\n",
            "conv5_block3_2_relu (Activation (None, 7, 7, 512)    0           conv5_block3_2_bn[0][0]          \n",
            "__________________________________________________________________________________________________\n",
            "conv5_block3_3_conv (Conv2D)    (None, 7, 7, 2048)   1050624     conv5_block3_2_relu[0][0]        \n",
            "__________________________________________________________________________________________________\n",
            "conv5_block3_3_bn (BatchNormali (None, 7, 7, 2048)   8192        conv5_block3_3_conv[0][0]        \n",
            "__________________________________________________________________________________________________\n",
            "conv5_block3_add (Add)          (None, 7, 7, 2048)   0           conv5_block2_out[0][0]           \n",
            "                                                                 conv5_block3_3_bn[0][0]          \n",
            "__________________________________________________________________________________________________\n",
            "conv5_block3_out (Activation)   (None, 7, 7, 2048)   0           conv5_block3_add[0][0]           \n",
            "__________________________________________________________________________________________________\n",
            "avg_pool (GlobalAveragePooling2 (None, 2048)         0           conv5_block3_out[0][0]           \n",
            "__________________________________________________________________________________________________\n",
            "new_flatten (Flatten)           (None, 2048)         0           avg_pool[0][0]                   \n",
            "__________________________________________________________________________________________________\n",
            "new_fc (Dense)                  (None, 1024)         2098176     new_flatten[0][0]                \n",
            "==================================================================================================\n",
            "Total params: 25,685,888\n",
            "Trainable params: 3,153,920\n",
            "Non-trainable params: 22,531,968\n",
            "__________________________________________________________________________________________________\n"
          ]
        }
      ]
    },
    {
      "cell_type": "markdown",
      "metadata": {
        "id": "FJJcG7pEH6ZA"
      },
      "source": [
        "Predicts the feature using vgg16 model"
      ]
    },
    {
      "cell_type": "code",
      "metadata": {
        "id": "fBXbh5nKZ7b9"
      },
      "source": [
        "def vgg_feature_ext(img_data):\n",
        "  vgg16_feature = vgg_model.predict(img_data)\n",
        "  \n",
        "  return vgg16_feature"
      ],
      "execution_count": 57,
      "outputs": []
    },
    {
      "cell_type": "markdown",
      "metadata": {
        "id": "cP4IsBGbIBac"
      },
      "source": [
        "Predicts the feature using Resnet50 model"
      ]
    },
    {
      "cell_type": "code",
      "metadata": {
        "id": "2YqoCA26p35Y"
      },
      "source": [
        "def resnet_feature_ext(img_data):\n",
        "  resnet_feature = resnet_model.predict(img_data)\n",
        "\n",
        "  return resnet_feature"
      ],
      "execution_count": 58,
      "outputs": []
    },
    {
      "cell_type": "markdown",
      "metadata": {
        "id": "k7NzRA-ZIRnw"
      },
      "source": [
        "Feature Extraction on images "
      ]
    },
    {
      "cell_type": "code",
      "metadata": {
        "colab": {
          "base_uri": "https://localhost:8080/"
        },
        "id": "H0cz1AkDpdI-",
        "outputId": "fbb16ee9-7a65-43c4-ae3e-39ecbfd01a8f"
      },
      "source": [
        " \n",
        "vgg_features_list = []\n",
        "resnet_features_list = []\n",
        "output_list=[]\n",
        "for f in folders:\n",
        "  image_files = os.listdir(os.path.join(os.getcwd(),f))\n",
        "  for i in image_files:\n",
        "    img = cv2.imread(os.path.join(f, i), cv2.IMREAD_UNCHANGED)\n",
        "    #print(\"size of imaage is\",img.shape)\n",
        "    resized = cv2.resize(img, (224,224), interpolation = cv2.INTER_AREA)\n",
        "    #print(\"resized imaage size \",resized.shape)\n",
        "    backtorgb = cv2.cvtColor(resized,cv2.COLOR_GRAY2RGB)\n",
        "    img_data = img_to_array(backtorgb)\n",
        "    img_data = np.expand_dims(img_data, axis=0)\n",
        "    img_data = preprocess_input(img_data)\n",
        "    datagen = ImageDataGenerator(rotation_range = 40, shear_range = 0.2, zoom_range = 0.2, horizontal_flip = True, brightness_range = (0.5, 1.5))\n",
        "    x= i.split(\"_\")\n",
        "    #print(x[2])\n",
        "    if int(x[2]) == 1:\n",
        "      # prepare iterator\n",
        "      it = datagen.flow(img_data, batch_size=1)\n",
        "      \n",
        "      for i in range(6):\n",
        "        batch = it.next()\n",
        "        image = batch[0].astype('uint8')\n",
        "        \n",
        "        img_data1 = img_to_array(image)\n",
        "        img_data1 = np.expand_dims(img_data1, axis=0)\n",
        "        img_data1 = preprocess_input(img_data1)\n",
        "        \n",
        "        vgg_features = vgg_feature_ext(img_data1)\n",
        "        vgg_features_np = np.array(vgg_features)\n",
        "        vgg_scaler = preprocessing.StandardScaler().fit(vgg_features_np)\n",
        "        vgg_scaler.transform(vgg_features_np)\n",
        "        vgg_final = vgg_features_np.flatten()\n",
        "        vgg_features_list.append(vgg_final)\n",
        "\n",
        "        resnet_features = resnet_feature_ext(img_data1)\n",
        "        resnet_features_np = np.array(resnet_features)\n",
        "        resnet_scaler = preprocessing.StandardScaler().fit(resnet_features_np)\n",
        "        resnet_scaler.transform(resnet_features_np)\n",
        "        resnet_final = resnet_features_np.flatten()\n",
        "        resnet_features_list.append(resnet_final)\n",
        "\n",
        "        output_list.append(0)\n",
        "     \n",
        "    else:\n",
        "      # prepare iterator\n",
        "      it = datagen.flow(img_data, batch_size=1)\n",
        "      \n",
        "      for i in range(2):\n",
        "        batch = it.next()\n",
        "        image = batch[0].astype('uint8')\n",
        "\n",
        "        img_data1 = img_to_array(image)\n",
        "        img_data1 = np.expand_dims(img_data1, axis=0)\n",
        "        img_data1 = preprocess_input(img_data1)\n",
        "\n",
        "        vgg_features = vgg_feature_ext(img_data1)\n",
        "        vgg_features_np = np.array(vgg_features)\n",
        "        vgg_scaler = preprocessing.StandardScaler().fit(vgg_features_np)\n",
        "        vgg_scaler.transform(vgg_features_np)\n",
        "        vgg_final = vgg_features_np.flatten()\n",
        "        vgg_features_list.append(vgg_final)\n",
        "\n",
        "        resnet_features = resnet_feature_ext(img_data1)\n",
        "        resnet_features_np = np.array(resnet_features)\n",
        "        resnet_scaler = preprocessing.StandardScaler().fit(resnet_features_np)\n",
        "        resnet_scaler.transform(resnet_features_np)\n",
        "        resnet_final = resnet_features_np.flatten()\n",
        "        resnet_features_list.append(resnet_final)\n",
        "        \n",
        "        output_list.append(1)\n",
        "     \n",
        "output_list_np = np.array(output_list)\n",
        "print(output_list_np.shape)\n",
        "\n",
        "vgg_features_list_np = np.array(vgg_features_list)\n",
        "resnet_features_list_np = np.array(resnet_features_list)\n",
        "print(\"shape of vgg_features\")\n",
        "print(vgg_features_list_np.shape)\n",
        "print(\"shape of resnet_features\")\n",
        "print(resnet_features_list_np.shape)\n"
      ],
      "execution_count": 67,
      "outputs": [
        {
          "output_type": "stream",
          "name": "stdout",
          "text": [
            "(1954,)\n",
            "shape of vgg_features\n",
            "(1954, 1024)\n",
            "shape of resnet_features\n",
            "(1954, 1024)\n"
          ]
        }
      ]
    },
    {
      "cell_type": "code",
      "metadata": {
        "id": "W9pRr2V4qRtO"
      },
      "source": [
        "vgg_newf = vgg_features_list_np.copy()\n",
        "resnet_newf = resnet_features_list_np.copy()\n",
        "newo = output_list_np.copy()"
      ],
      "execution_count": 68,
      "outputs": []
    },
    {
      "cell_type": "markdown",
      "metadata": {
        "id": "C2T9a3wGInRq"
      },
      "source": [
        "**Training Models**"
      ]
    },
    {
      "cell_type": "code",
      "metadata": {
        "id": "xXJNnbchaYFe"
      },
      "source": [
        "from sklearn.model_selection import train_test_split\n",
        "\n",
        "from sklearn.metrics import classification_report\n",
        "from sklearn.metrics import roc_auc_score,confusion_matrix,classification_report\n",
        "from sklearn.model_selection import learning_curve,StratifiedKFold\n",
        "import seaborn as sns \n",
        "from sklearn.linear_model import LogisticRegression\n",
        "from sklearn.neural_network import MLPClassifier\n",
        "from sklearn.datasets import make_classification\n",
        "from sklearn import tree"
      ],
      "execution_count": 69,
      "outputs": []
    },
    {
      "cell_type": "markdown",
      "metadata": {
        "id": "3-11pr1XamC2"
      },
      "source": [
        "**Logistic Regression**\n"
      ]
    },
    {
      "cell_type": "code",
      "metadata": {
        "id": "MQfcp7WgnNMp"
      },
      "source": [
        "def logistic_regression(X_train, X_test, y_train, y_test):\n",
        "  clf1 = LogisticRegression(max_iter=600).fit(X_train, y_train)\n",
        "  print(\"training accuracy\")\n",
        "  print(clf1.score(X_train, y_train))\n",
        "  print(\"Testing accuracy\")\n",
        "  print(clf1.score(X_test, y_test))\n",
        "\n",
        "  y_pred2=clf1.predict(X_test)\n",
        "\n",
        "  target_names = ['Sober', 'Drunk']\n",
        "  print(classification_report(y_test, y_pred2, target_names=target_names))\n",
        "  print('ROC-AUC:',round(roc_auc_score(y_test,y_pred2),4))\n",
        "  # Confusion Matrix\n",
        "\n",
        "  cm = confusion_matrix(y_test, y_pred2).T\n",
        "  cm = cm.astype('float')/cm.sum(axis=0)\n",
        "  ax = sns.heatmap(cm, annot=True, cmap='Blues');\n",
        "  ax.set_xlabel('True Label',size=12)\n",
        "  ax.set_ylabel('Predicted Label',size=12)"
      ],
      "execution_count": 105,
      "outputs": []
    },
    {
      "cell_type": "markdown",
      "metadata": {
        "id": "0wp7ZHUKorIv"
      },
      "source": [
        "**MLP Classifier**"
      ]
    },
    {
      "cell_type": "code",
      "metadata": {
        "id": "LgLT8nLpoGuq"
      },
      "source": [
        "def MLP_Classifier(X_train, X_test, y_train, y_test):\n",
        "  clf = MLPClassifier(random_state=1, max_iter=300).fit(X_train, y_train)\n",
        "  #clf.predict(X_test)\n",
        "  y_pred=clf.predict(X_test)\n",
        "\n",
        "  print(\"training accuracy\")\n",
        "  print(clf.score(X_train, y_train))\n",
        "  print(\"Testing accuracy\")\n",
        "  print(clf.score(X_test, y_test))\n",
        "\n",
        "  target_names = ['Sober', 'Drunk']\n",
        "  print(classification_report(y_test, y_pred, target_names=target_names))\n",
        "  print('ROC-AUC:',round(roc_auc_score(y_test,y_pred),4))\n",
        "  # Confusion Matrix\n",
        "\n",
        "  cm = confusion_matrix(y_test, y_pred).T\n",
        "  cm = cm.astype('float')/cm.sum(axis=0)\n",
        "  ax = sns.heatmap(cm, annot=True, cmap='Blues');\n",
        "  ax.set_xlabel('True Label',size=12)\n",
        "  ax.set_ylabel('Predicted Label',size=12)"
      ],
      "execution_count": 107,
      "outputs": []
    },
    {
      "cell_type": "markdown",
      "metadata": {
        "id": "OASILWfsoyFT"
      },
      "source": [
        "**Decision Tree**"
      ]
    },
    {
      "cell_type": "code",
      "metadata": {
        "id": "g_AZ0JBjohar"
      },
      "source": [
        "def Decision_Tree(X_train, X_test, y_train, y_test):\n",
        "  \n",
        "  model = tree.DecisionTreeClassifier()\n",
        "  model.fit(X_train, y_train)\n",
        "  print(\"training accuracy\")\n",
        "  print(model.score(X_train, y_train))\n",
        "  print(\"Testing accuracy\")\n",
        "  print(model.score(X_test, y_test))\n",
        "\n",
        "  y_pred1= model.predict(X_test)\n",
        "\n",
        "  target_names = ['Sober', 'Drunk']\n",
        "  print(classification_report(y_test, y_pred1, target_names=target_names))\n",
        "  print('ROC-AUC:',round(roc_auc_score(y_test,y_pred1),4))\n",
        "  # Confusion Matrix\n",
        " \n",
        "  cm = confusion_matrix(y_test, y_pred1).T\n",
        "  cm = cm.astype('float')/cm.sum(axis=0)\n",
        "  ax = sns.heatmap(cm, annot=True, cmap='Blues');\n",
        "  ax.set_xlabel('True Label',size=12)\n",
        "  ax.set_ylabel('Predicted Label',size=12)\n"
      ],
      "execution_count": 72,
      "outputs": []
    },
    {
      "cell_type": "markdown",
      "metadata": {
        "id": "TREwH74zpp4H"
      },
      "source": [
        "# Model using VGG features "
      ]
    },
    {
      "cell_type": "code",
      "metadata": {
        "colab": {
          "base_uri": "https://localhost:8080/",
          "height": 560
        },
        "id": "Zi9HVLYIpqX9",
        "outputId": "948d4061-4bd0-442b-942e-b7ad27695c8c"
      },
      "source": [
        "#training and testing data split\n",
        "X_train, X_test, y_train, y_test = train_test_split(vgg_newf, newo, test_size=0.2, stratify=newo,random_state=42)\n",
        "print(\"\\n Logistic regression Results\")\n",
        "logistic_regression(X_train, X_test, y_train, y_test)\n",
        "\n"
      ],
      "execution_count": 73,
      "outputs": [
        {
          "output_type": "stream",
          "name": "stdout",
          "text": [
            "\n",
            " Logistic regression Results\n",
            "training accuracy\n",
            "0.9756877799104287\n",
            "Testing accuracy\n",
            "0.618925831202046\n",
            "              precision    recall  f1-score   support\n",
            "\n",
            "       Sober       0.62      0.63      0.63       197\n",
            "       Drunk       0.62      0.60      0.61       194\n",
            "\n",
            "    accuracy                           0.62       391\n",
            "   macro avg       0.62      0.62      0.62       391\n",
            "weighted avg       0.62      0.62      0.62       391\n",
            "\n",
            "ROC-AUC: 0.6188\n"
          ]
        },
        {
          "output_type": "display_data",
          "data": {
            "image/png": "[encoded data removed]",
            "text/plain": [
              "<Figure size 432x288 with 2 Axes>"
            ]
          },
          "metadata": {
            "needs_background": "light"
          }
        }
      ]
    },
    {
      "cell_type": "code",
      "metadata": {
        "colab": {
          "base_uri": "https://localhost:8080/",
          "height": 560
        },
        "id": "D_sTsFE9lKKJ",
        "outputId": "95a8be27-b1ae-44c6-ca70-c7f07f08ba93"
      },
      "source": [
        "print(\"\\n Multi Layer Perceptron Classifier\")\n",
        "MLP_Classifier(X_train, X_test, y_train, y_test)\n"
      ],
      "execution_count": 74,
      "outputs": [
        {
          "output_type": "stream",
          "name": "stdout",
          "text": [
            "\n",
            " Multi Layer Perceptron Classifier\n",
            "training accuracy\n",
            "1.0\n",
            "Testing accuracy\n",
            "0.659846547314578\n",
            "              precision    recall  f1-score   support\n",
            "\n",
            "       Sober       0.64      0.74      0.69       197\n",
            "       Drunk       0.68      0.58      0.63       194\n",
            "\n",
            "    accuracy                           0.66       391\n",
            "   macro avg       0.66      0.66      0.66       391\n",
            "weighted avg       0.66      0.66      0.66       391\n",
            "\n",
            "ROC-AUC: 0.6593\n"
          ]
        },
        {
          "output_type": "display_data",
          "data": {
            "image/png": "[encoded data removed]",
            "text/plain": [
              "<Figure size 432x288 with 2 Axes>"
            ]
          },
          "metadata": {
            "needs_background": "light"
          }
        }
      ]
    },
    {
      "cell_type": "code",
      "metadata": {
        "colab": {
          "base_uri": "https://localhost:8080/",
          "height": 560
        },
        "id": "s6emUYHmlOqd",
        "outputId": "64bd5f80-73df-47ac-e401-0eb825d566d8"
      },
      "source": [
        "\n",
        "print(\"\\n Decision Tree Classifier\")\n",
        "Decision_Tree(X_train, X_test, y_train, y_test)"
      ],
      "execution_count": 75,
      "outputs": [
        {
          "output_type": "stream",
          "name": "stdout",
          "text": [
            "\n",
            " Decision Tree Classifier\n",
            "training accuracy\n",
            "1.0\n",
            "Testing accuracy\n",
            "0.5396419437340153\n",
            "              precision    recall  f1-score   support\n",
            "\n",
            "       Sober       0.54      0.55      0.55       197\n",
            "       Drunk       0.54      0.53      0.53       194\n",
            "\n",
            "    accuracy                           0.54       391\n",
            "   macro avg       0.54      0.54      0.54       391\n",
            "weighted avg       0.54      0.54      0.54       391\n",
            "\n",
            "ROC-AUC: 0.5396\n"
          ]
        },
        {
          "output_type": "display_data",
          "data": {
            "image/png": "[encoded data removed]",
            "text/plain": [
              "<Figure size 432x288 with 2 Axes>"
            ]
          },
          "metadata": {
            "needs_background": "light"
          }
        }
      ]
    },
    {
      "cell_type": "markdown",
      "metadata": {
        "id": "aBubZPsqpYil"
      },
      "source": [
        "# Model using Resnet Feature"
      ]
    },
    {
      "cell_type": "code",
      "metadata": {
        "colab": {
          "base_uri": "https://localhost:8080/",
          "height": 560
        },
        "id": "l6RLQHZdpc1d",
        "outputId": "772076d1-25b6-4fb2-bb0a-eb6e28bc096e"
      },
      "source": [
        "#training and testing data split\n",
        "X_train, X_test, y_train, y_test = train_test_split(resnet_newf, newo, test_size=0.2, stratify=newo,random_state=42)\n",
        "print(\"\\n Logistic regression Results\")\n",
        "logistic_regression(X_train, X_test, y_train, y_test)\n",
        "\n"
      ],
      "execution_count": 76,
      "outputs": [
        {
          "output_type": "stream",
          "name": "stdout",
          "text": [
            "\n",
            " Logistic regression Results\n",
            "training accuracy\n",
            "0.9667306461932181\n",
            "Testing accuracy\n",
            "0.6240409207161125\n",
            "              precision    recall  f1-score   support\n",
            "\n",
            "       Sober       0.62      0.63      0.63       197\n",
            "       Drunk       0.62      0.61      0.62       194\n",
            "\n",
            "    accuracy                           0.62       391\n",
            "   macro avg       0.62      0.62      0.62       391\n",
            "weighted avg       0.62      0.62      0.62       391\n",
            "\n",
            "ROC-AUC: 0.624\n"
          ]
        },
        {
          "output_type": "display_data",
          "data": {
            "image/png": "[encoded data removed]",
            "text/plain": [
              "<Figure size 432x288 with 2 Axes>"
            ]
          },
          "metadata": {
            "needs_background": "light"
          }
        }
      ]
    },
    {
      "cell_type": "code",
      "metadata": {
        "id": "hEhPKhbfpc5j",
        "colab": {
          "base_uri": "https://localhost:8080/",
          "height": 560
        },
        "outputId": "764d9c89-6f6e-4c67-c86f-5ada881c3503"
      },
      "source": [
        "print(\"\\n Multi Layer Perceptron Classifier\")\n",
        "MLP_Classifier(X_train, X_test, y_train, y_test)\n"
      ],
      "execution_count": 77,
      "outputs": [
        {
          "output_type": "stream",
          "name": "stdout",
          "text": [
            "\n",
            " Multi Layer Perceptron Classifier\n",
            "training accuracy\n",
            "1.0\n",
            "Testing accuracy\n",
            "0.690537084398977\n",
            "              precision    recall  f1-score   support\n",
            "\n",
            "       Sober       0.68      0.72      0.70       197\n",
            "       Drunk       0.70      0.66      0.68       194\n",
            "\n",
            "    accuracy                           0.69       391\n",
            "   macro avg       0.69      0.69      0.69       391\n",
            "weighted avg       0.69      0.69      0.69       391\n",
            "\n",
            "ROC-AUC: 0.6903\n"
          ]
        },
        {
          "output_type": "display_data",
          "data": {
            "image/png": "[encoded data removed]",
            "text/plain": [
              "<Figure size 432x288 with 2 Axes>"
            ]
          },
          "metadata": {
            "needs_background": "light"
          }
        }
      ]
    },
    {
      "cell_type": "code",
      "metadata": {
        "id": "RZnPiAAWpc9h",
        "colab": {
          "base_uri": "https://localhost:8080/",
          "height": 560
        },
        "outputId": "2f593edc-9d55-4890-a5b3-9fb30a79f213"
      },
      "source": [
        "\n",
        "print(\"\\n Decision Tree Classifier\")\n",
        "Decision_Tree(X_train, X_test, y_train, y_test)"
      ],
      "execution_count": 78,
      "outputs": [
        {
          "output_type": "stream",
          "name": "stdout",
          "text": [
            "\n",
            " Decision Tree Classifier\n",
            "training accuracy\n",
            "1.0\n",
            "Testing accuracy\n",
            "0.5421994884910486\n",
            "              precision    recall  f1-score   support\n",
            "\n",
            "       Sober       0.54      0.57      0.56       197\n",
            "       Drunk       0.54      0.52      0.53       194\n",
            "\n",
            "    accuracy                           0.54       391\n",
            "   macro avg       0.54      0.54      0.54       391\n",
            "weighted avg       0.54      0.54      0.54       391\n",
            "\n",
            "ROC-AUC: 0.542\n"
          ]
        },
        {
          "output_type": "display_data",
          "data": {
            "image/png": "[encoded data removed]",
            "text/plain": [
              "<Figure size 432x288 with 2 Axes>"
            ]
          },
          "metadata": {
            "needs_background": "light"
          }
        }
      ]
    },
    {
      "cell_type": "code",
      "metadata": {
        "id": "VH4VfFipbqXa"
      },
      "source": [
        ""
      ],
      "execution_count": null,
      "outputs": []
    },
    {
      "cell_type": "markdown",
      "metadata": {
        "id": "1AS8v2Tnb_QP"
      },
      "source": [
        "# **Version 2**"
      ]
    },
    {
      "cell_type": "markdown",
      "metadata": {
        "id": "AQTV0x5AhNBj"
      },
      "source": [
        "**Feature Extraction without hand images**"
      ]
    },
    {
      "cell_type": "code",
      "metadata": {
        "colab": {
          "base_uri": "https://localhost:8080/"
        },
        "id": "fEs6PXMNjwf7",
        "outputId": "c62bbd43-11c7-42d8-aa2a-cd19060f6414"
      },
      "source": [
        "vgg_features_list = []\n",
        "resnet_features_list = []\n",
        "output_list=[]\n",
        "for f in folders:\n",
        "  image_files = os.listdir(os.path.join(os.getcwd(),f))\n",
        "  for i in image_files:\n",
        "    x= i.split(\"_\")\n",
        "    if x[3]=='h':\n",
        "      pass\n",
        "    else:\n",
        "      img = cv2.imread(os.path.join(f, i), cv2.IMREAD_UNCHANGED)\n",
        "      #print(\"size of imaage is\",img.shape)\n",
        "      resized = cv2.resize(img, (224,224), interpolation = cv2.INTER_AREA)\n",
        "      #print(\"resized imaage size \",resized.shape)\n",
        "      backtorgb = cv2.cvtColor(resized,cv2.COLOR_GRAY2RGB)\n",
        "      img_data = img_to_array(backtorgb)\n",
        "      img_data = np.expand_dims(img_data, axis=0)\n",
        "      img_data = preprocess_input(img_data)\n",
        "      datagen = ImageDataGenerator(rotation_range = 40, shear_range = 0.2, zoom_range = 0.2, horizontal_flip = True, brightness_range = (0.5, 1.5))\n",
        "      #x= i.split(\"_\")\n",
        "      #print(x[2])\n",
        "      if int(x[2]) == 1:\n",
        "        # prepare iterator\n",
        "        it = datagen.flow(img_data, batch_size=1)\n",
        "        \n",
        "        for i in range(6):\n",
        "          batch = it.next()\n",
        "          image = batch[0].astype('uint8')\n",
        "          #img = cv2.imread(os.path.join(f, i), cv2.IMREAD_UNCHANGED)\n",
        "          #print(\"size of imaage is\",img.shape)\n",
        "          #resized1 = cv2.resize(image, (224,224), interpolation = cv2.INTER_AREA)\n",
        "          #print(\"resized imaage size \",resized.shape)\n",
        "          #backtorgb1 = cv2.cvtColor(resized1,cv2.COLOR_GRAY2RGB)\n",
        "          img_data1 = img_to_array(image)\n",
        "          img_data1 = np.expand_dims(img_data1, axis=0)\n",
        "          img_data1 = preprocess_input(img_data1)\n",
        "          \n",
        "          vgg_features = vgg_feature_ext(img_data1)\n",
        "          vgg_features_np = np.array(vgg_features)\n",
        "          vgg_scaler = preprocessing.StandardScaler().fit(vgg_features_np)\n",
        "          vgg_scaler.transform(vgg_features_np)\n",
        "          vgg_final = vgg_features_np.flatten()\n",
        "          vgg_features_list.append(vgg_final)\n",
        "\n",
        "          resnet_features = resnet_feature_ext(img_data1)\n",
        "          resnet_features_np = np.array(resnet_features)\n",
        "          resnet_scaler = preprocessing.StandardScaler().fit(resnet_features_np)\n",
        "          resnet_scaler.transform(resnet_features_np)\n",
        "          resnet_final = resnet_features_np.flatten()\n",
        "          resnet_features_list.append(resnet_final)\n",
        "\n",
        "          output_list.append(0)\n",
        "      \n",
        "      else:\n",
        "        # prepare iterator\n",
        "        it = datagen.flow(img_data, batch_size=1)\n",
        "        \n",
        "        for i in range(2):\n",
        "          batch = it.next()\n",
        "          image = batch[0].astype('uint8')\n",
        "\n",
        "          #img = cv2.imread(os.path.join(f, i), cv2.IMREAD_UNCHANGED)\n",
        "          #print(\"size of imaage is\",img.shape)\n",
        "          #resized1 = cv2.resize(image, (224,224), interpolation = cv2.INTER_AREA)\n",
        "          #print(\"resized imaage size \",resized.shape)\n",
        "          #backtorgb1 = cv2.cvtColor(resized1,cv2.COLOR_GRAY2RGB)\n",
        "          img_data1 = img_to_array(image)\n",
        "          img_data1 = np.expand_dims(img_data1, axis=0)\n",
        "          img_data1 = preprocess_input(img_data1)\n",
        "\n",
        "          vgg_features = vgg_feature_ext(img_data1)\n",
        "          vgg_features_np = np.array(vgg_features)\n",
        "          vgg_scaler = preprocessing.StandardScaler().fit(vgg_features_np)\n",
        "          vgg_scaler.transform(vgg_features_np)\n",
        "          vgg_final = vgg_features_np.flatten()\n",
        "          vgg_features_list.append(vgg_final)\n",
        "\n",
        "          resnet_features = resnet_feature_ext(img_data1)\n",
        "          resnet_features_np = np.array(resnet_features)\n",
        "          resnet_scaler = preprocessing.StandardScaler().fit(resnet_features_np)\n",
        "          resnet_scaler.transform(resnet_features_np)\n",
        "          resnet_final = resnet_features_np.flatten()\n",
        "          resnet_features_list.append(resnet_final)\n",
        "          \n",
        "          output_list.append(1)\n",
        "      \n",
        "\n",
        "output_list_np = np.array(output_list)\n",
        "print(output_list_np.shape)\n",
        "\n",
        "vgg_features_list_np = np.array(vgg_features_list)\n",
        "resnet_features_list_np = np.array(resnet_features_list)\n",
        "print(\"shape of vgg_features\")\n",
        "print(vgg_features_list_np.shape)\n",
        "print(\"shape of resnet_features\")\n",
        "print(resnet_features_list_np.shape)\n",
        "   "
      ],
      "execution_count": 79,
      "outputs": [
        {
          "output_type": "stream",
          "name": "stdout",
          "text": [
            "(1466,)\n",
            "shape of vgg_features\n",
            "(1466, 1024)\n",
            "shape of resnet_features\n",
            "(1466, 1024)\n"
          ]
        }
      ]
    },
    {
      "cell_type": "code",
      "metadata": {
        "id": "KPl6RAZNgnlH"
      },
      "source": [
        "vgg_newf = vgg_features_list_np.copy()\n",
        "resnet_newf = resnet_features_list_np.copy()\n",
        "newo = output_list_np.copy()"
      ],
      "execution_count": 80,
      "outputs": []
    },
    {
      "cell_type": "markdown",
      "metadata": {
        "id": "jf5jPINpg7kq"
      },
      "source": [
        "**Model using VGG feature and without hand images**"
      ]
    },
    {
      "cell_type": "code",
      "metadata": {
        "colab": {
          "base_uri": "https://localhost:8080/",
          "height": 560
        },
        "id": "EFE7NgTqg0hh",
        "outputId": "5fd9e1e5-769a-45a0-e126-610d28025352"
      },
      "source": [
        "#training and testing data split\n",
        "X_train, X_test, y_train, y_test = train_test_split(vgg_newf, newo, test_size=0.2, stratify=newo,random_state=42)\n",
        "print(\"\\n Logistic regression Results\")\n",
        "logistic_regression(X_train, X_test, y_train, y_test)\n",
        "\n"
      ],
      "execution_count": 81,
      "outputs": [
        {
          "output_type": "stream",
          "name": "stdout",
          "text": [
            "\n",
            " Logistic regression Results\n",
            "training accuracy\n",
            "0.9914675767918089\n",
            "Testing accuracy\n",
            "0.5748299319727891\n",
            "              precision    recall  f1-score   support\n",
            "\n",
            "       Sober       0.58      0.57      0.58       148\n",
            "       Drunk       0.57      0.58      0.57       146\n",
            "\n",
            "    accuracy                           0.57       294\n",
            "   macro avg       0.57      0.57      0.57       294\n",
            "weighted avg       0.57      0.57      0.57       294\n",
            "\n",
            "ROC-AUC: 0.5748\n"
          ]
        },
        {
          "output_type": "display_data",
          "data": {
            "image/png": "[encoded data removed]",
            "text/plain": [
              "<Figure size 432x288 with 2 Axes>"
            ]
          },
          "metadata": {
            "needs_background": "light"
          }
        }
      ]
    },
    {
      "cell_type": "code",
      "metadata": {
        "colab": {
          "base_uri": "https://localhost:8080/",
          "height": 560
        },
        "id": "ncFGQt9xouLj",
        "outputId": "b2ecba2f-20b3-4c4a-fd29-2cd57d1e6521"
      },
      "source": [
        "print(\"\\n Multi Layer Perceptron Classifier\")\n",
        "MLP_Classifier(X_train, X_test, y_train, y_test)\n"
      ],
      "execution_count": 82,
      "outputs": [
        {
          "output_type": "stream",
          "name": "stdout",
          "text": [
            "\n",
            " Multi Layer Perceptron Classifier\n",
            "training accuracy\n",
            "1.0\n",
            "Testing accuracy\n",
            "0.608843537414966\n",
            "              precision    recall  f1-score   support\n",
            "\n",
            "       Sober       0.61      0.60      0.61       148\n",
            "       Drunk       0.60      0.62      0.61       146\n",
            "\n",
            "    accuracy                           0.61       294\n",
            "   macro avg       0.61      0.61      0.61       294\n",
            "weighted avg       0.61      0.61      0.61       294\n",
            "\n",
            "ROC-AUC: 0.6089\n"
          ]
        },
        {
          "output_type": "display_data",
          "data": {
            "image/png": "[encoded data removed]",
            "text/plain": [
              "<Figure size 432x288 with 2 Axes>"
            ]
          },
          "metadata": {
            "needs_background": "light"
          }
        }
      ]
    },
    {
      "cell_type": "code",
      "metadata": {
        "colab": {
          "base_uri": "https://localhost:8080/",
          "height": 561
        },
        "id": "cFBTSSMKo2up",
        "outputId": "65798441-eaf8-43ee-944f-d4067d832e83"
      },
      "source": [
        "\n",
        "print(\"\\n Decision Tree Classifier\")\n",
        "Decision_Tree(X_train, X_test, y_train, y_test)"
      ],
      "execution_count": 83,
      "outputs": [
        {
          "output_type": "stream",
          "name": "stdout",
          "text": [
            "\n",
            " Decision Tree Classifier\n",
            "training accuracy\n",
            "1.0\n",
            "Testing accuracy\n",
            "0.5374149659863946\n",
            "              precision    recall  f1-score   support\n",
            "\n",
            "       Sober       0.54      0.49      0.52       148\n",
            "       Drunk       0.53      0.58      0.56       146\n",
            "\n",
            "    accuracy                           0.54       294\n",
            "   macro avg       0.54      0.54      0.54       294\n",
            "weighted avg       0.54      0.54      0.54       294\n",
            "\n",
            "ROC-AUC: 0.5377\n"
          ]
        },
        {
          "output_type": "display_data",
          "data": {
            "image/png": "[encoded data removed]",
            "text/plain": [
              "<Figure size 432x288 with 2 Axes>"
            ]
          },
          "metadata": {
            "needs_background": "light"
          }
        }
      ]
    },
    {
      "cell_type": "markdown",
      "metadata": {
        "id": "s8jvhtHshE5Q"
      },
      "source": [
        "**Model using Resnet feature and without hand images**"
      ]
    },
    {
      "cell_type": "code",
      "metadata": {
        "colab": {
          "base_uri": "https://localhost:8080/",
          "height": 560
        },
        "id": "TktWmNvXg1Cw",
        "outputId": "da3f442b-9d91-419a-c8ec-d2609809140a"
      },
      "source": [
        "#training and testing data split\n",
        "X_train, X_test, y_train, y_test = train_test_split(resnet_newf, newo, test_size=0.2, stratify=newo,random_state=42)\n",
        "print(\"\\n Logistic regression Results\")\n",
        "logistic_regression(X_train, X_test, y_train, y_test)\n",
        "\n"
      ],
      "execution_count": 109,
      "outputs": [
        {
          "output_type": "stream",
          "name": "stdout",
          "text": [
            "\n",
            " Logistic regression Results\n",
            "training accuracy\n",
            "0.9872013651877133\n",
            "Testing accuracy\n",
            "0.7040816326530612\n",
            "              precision    recall  f1-score   support\n",
            "\n",
            "       Sober       0.70      0.73      0.71       148\n",
            "       Drunk       0.71      0.68      0.69       146\n",
            "\n",
            "    accuracy                           0.70       294\n",
            "   macro avg       0.70      0.70      0.70       294\n",
            "weighted avg       0.70      0.70      0.70       294\n",
            "\n",
            "ROC-AUC: 0.7039\n"
          ]
        },
        {
          "output_type": "display_data",
          "data": {
            "image/png": "[encoded data removed]",
            "text/plain": [
              "<Figure size 432x288 with 2 Axes>"
            ]
          },
          "metadata": {
            "needs_background": "light"
          }
        }
      ]
    },
    {
      "cell_type": "code",
      "metadata": {
        "id": "JQvVMQjzhbwZ",
        "colab": {
          "base_uri": "https://localhost:8080/",
          "height": 560
        },
        "outputId": "5ddcea1d-ecfd-432b-e1ff-f9a24472efb2"
      },
      "source": [
        "print(\"\\n Multi Layer Perceptron Classifier\")\n",
        "MLP_Classifier(X_train, X_test, y_train, y_test, )\n",
        "\n"
      ],
      "execution_count": 108,
      "outputs": [
        {
          "output_type": "stream",
          "name": "stdout",
          "text": [
            "\n",
            " Multi Layer Perceptron Classifier\n",
            "training accuracy\n",
            "1.0\n",
            "Testing accuracy\n",
            "0.6870748299319728\n",
            "              precision    recall  f1-score   support\n",
            "\n",
            "       Sober       0.67      0.74      0.71       148\n",
            "       Drunk       0.71      0.63      0.67       146\n",
            "\n",
            "    accuracy                           0.69       294\n",
            "   macro avg       0.69      0.69      0.69       294\n",
            "weighted avg       0.69      0.69      0.69       294\n",
            "\n",
            "ROC-AUC: 0.6867\n"
          ]
        },
        {
          "output_type": "display_data",
          "data": {
            "image/png": "[encoded data removed]",
            "text/plain": [
              "<Figure size 432x288 with 2 Axes>"
            ]
          },
          "metadata": {
            "needs_background": "light"
          }
        }
      ]
    },
    {
      "cell_type": "code",
      "metadata": {
        "id": "Kqe_banAhb02",
        "colab": {
          "base_uri": "https://localhost:8080/",
          "height": 560
        },
        "outputId": "3f6c82a1-7e9d-41ab-9813-fe87b76409c0"
      },
      "source": [
        "print(\"\\n Decision Tree Classifier\")\n",
        "Decision_Tree(X_train, X_test, y_train, y_test)"
      ],
      "execution_count": 86,
      "outputs": [
        {
          "output_type": "stream",
          "name": "stdout",
          "text": [
            "\n",
            " Decision Tree Classifier\n",
            "training accuracy\n",
            "1.0\n",
            "Testing accuracy\n",
            "0.5850340136054422\n",
            "              precision    recall  f1-score   support\n",
            "\n",
            "       Sober       0.58      0.61      0.60       148\n",
            "       Drunk       0.59      0.56      0.57       146\n",
            "\n",
            "    accuracy                           0.59       294\n",
            "   macro avg       0.59      0.58      0.58       294\n",
            "weighted avg       0.59      0.59      0.58       294\n",
            "\n",
            "ROC-AUC: 0.5849\n"
          ]
        },
        {
          "output_type": "display_data",
          "data": {
            "image/png": "[encoded data removed]",
            "text/plain": [
              "<Figure size 432x288 with 2 Axes>"
            ]
          },
          "metadata": {
            "needs_background": "light"
          }
        }
      ]
    },
    {
      "cell_type": "code",
      "metadata": {
        "id": "CAIdBlFZhcK8"
      },
      "source": [
        ""
      ],
      "execution_count": null,
      "outputs": []
    }
  ]
}